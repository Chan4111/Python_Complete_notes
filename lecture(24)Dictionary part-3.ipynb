{
 "cells": [
  {
   "cell_type": "markdown",
   "id": "efa990b2-ed0b-48dd-b7ce-dc0482db3787",
   "metadata": {},
   "source": [
    "# Practice question of Dictionary"
   ]
  },
  {
   "cell_type": "markdown",
   "id": "06d06423-2ec2-4484-9076-c4487daa8f25",
   "metadata": {},
   "source": [
    "#### Question 1"
   ]
  },
  {
   "cell_type": "markdown",
   "id": "d3ec4518-d6e2-41cb-9814-118ef374fb4b",
   "metadata": {},
   "source": [
    "##### Write a Python script to concatenate the following dictionaries to create a new one."
   ]
  },
  {
   "cell_type": "code",
   "execution_count": 4,
   "id": "b8b23d74-86ee-446f-ac68-79b69501c7cd",
   "metadata": {},
   "outputs": [
    {
     "name": "stdout",
     "output_type": "stream",
     "text": [
      "{1: 10, 2: 20, 3: 30, 4: 40, 5: 50, 6: 60}\n"
     ]
    }
   ],
   "source": [
    "dic1 ={\n",
    "    1:10,\n",
    "    2:20\n",
    "}\n",
    "dic2 ={\n",
    "    3:30,\n",
    "    4:40\n",
    "}\n",
    "dic3 ={\n",
    "    5:50,\n",
    "    6:60\n",
    "}\n",
    "dic4 ={}\n",
    "for d in(dic1,dic2,dic3):dic4.update(d)\n",
    "print(dic4)"
   ]
  },
  {
   "cell_type": "markdown",
   "id": "b5497beb-9690-4063-bfc6-b24f5b399048",
   "metadata": {},
   "source": [
    "#### Question 2"
   ]
  },
  {
   "cell_type": "markdown",
   "id": "ba03444e-a0b4-47ad-b20b-89fda4e2aa64",
   "metadata": {},
   "source": [
    "##### Print a dictionary where the keys are numbers between 1 and 15 and values are square of Keys"
   ]
  },
  {
   "cell_type": "code",
   "execution_count": 9,
   "id": "712d519c-7c97-4693-b102-a9c9a342b2dc",
   "metadata": {},
   "outputs": [
    {
     "name": "stdout",
     "output_type": "stream",
     "text": [
      "{1: 1, 2: 4, 3: 9, 4: 16, 5: 25, 6: 36, 7: 49, 8: 64, 9: 81, 10: 100, 11: 121, 12: 144, 13: 169, 14: 196, 15: 225}\n"
     ]
    }
   ],
   "source": [
    "square_dict={}\n",
    "for num in range (1,16):\n",
    "    square_dict[num] =num**2\n",
    "\n",
    "print(square_dict)"
   ]
  },
  {
   "cell_type": "markdown",
   "id": "3b61f509-082d-422a-8dd7-1f32950c2371",
   "metadata": {},
   "source": [
    "#### question 3"
   ]
  },
  {
   "cell_type": "markdown",
   "id": "33d1767c-0614-4bd3-b045-91088202303c",
   "metadata": {},
   "source": [
    "##### Check whether a given key already exists in dictionary"
   ]
  },
  {
   "cell_type": "code",
   "execution_count": 10,
   "id": "f6f8f201-a2af-4d98-bfa1-624bed50774d",
   "metadata": {},
   "outputs": [
    {
     "name": "stdout",
     "output_type": "stream",
     "text": [
      "Key is Present in the dictionary\n"
     ]
    }
   ],
   "source": [
    "d = { 1:10,2:20,3:30,4:40,5:50,6:60}\n",
    "def is_key_present(x):\n",
    "    if x in d:\n",
    "        print(\"Key is Present in the dictionary\")\n",
    "\n",
    "    else:\n",
    "        print(\"Key is not present in the dictionary\")\n",
    "\n",
    "is_key_present(3)"
   ]
  },
  {
   "cell_type": "code",
   "execution_count": 11,
   "id": "bb7eff59-86fc-4984-a3fd-ff3d7a17ac05",
   "metadata": {},
   "outputs": [
    {
     "name": "stdout",
     "output_type": "stream",
     "text": [
      "Key is not present in the dictionary\n"
     ]
    }
   ],
   "source": [
    "is_key_present(10)"
   ]
  },
  {
   "cell_type": "code",
   "execution_count": null,
   "id": "e05c45b7-ac6e-4e87-b898-2d933259f592",
   "metadata": {},
   "outputs": [],
   "source": []
  }
 ],
 "metadata": {
  "kernelspec": {
   "display_name": "Python 3 (ipykernel)",
   "language": "python",
   "name": "python3"
  },
  "language_info": {
   "codemirror_mode": {
    "name": "ipython",
    "version": 3
   },
   "file_extension": ".py",
   "mimetype": "text/x-python",
   "name": "python",
   "nbconvert_exporter": "python",
   "pygments_lexer": "ipython3",
   "version": "3.12.7"
  }
 },
 "nbformat": 4,
 "nbformat_minor": 5
}
