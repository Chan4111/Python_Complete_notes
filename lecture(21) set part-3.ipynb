{
 "cells": [
  {
   "cell_type": "markdown",
   "id": "6c35cb0a-addc-45d9-a9bc-db2212733a78",
   "metadata": {},
   "source": [
    "## Set Part-3"
   ]
  },
  {
   "cell_type": "markdown",
   "id": "85a45954-6302-4c3a-a36e-7e576b5d082f",
   "metadata": {},
   "source": [
    "# Join two sets"
   ]
  },
  {
   "cell_type": "code",
   "execution_count": 1,
   "id": "a019d77f-1b7a-402c-b8c5-59fb964799cf",
   "metadata": {},
   "outputs": [
    {
     "name": "stdout",
     "output_type": "stream",
     "text": [
      "{1, 2, 3, 4, 5, 6, 'gulshan', 'Ram', 17, 'chandan'}\n"
     ]
    }
   ],
   "source": [
    "x ={1,2,6,4,3,5,17}\n",
    "y= {\"chandan\",\"gulshan\",\"Ram\"}\n",
    "z=x.union(y)\n",
    "print(z)"
   ]
  },
  {
   "cell_type": "markdown",
   "id": "b5b84b03-1d64-4d80-b5cc-c6e647515ed6",
   "metadata": {},
   "source": [
    "### write a apython program to find the maximum and minimum values in sets."
   ]
  },
  {
   "cell_type": "code",
   "execution_count": 2,
   "id": "0021f50b-ac83-41d4-a727-28ec08ea3e5e",
   "metadata": {},
   "outputs": [
    {
     "name": "stdout",
     "output_type": "stream",
     "text": [
      "The maximum value in this sets is:\n",
      "47\n"
     ]
    }
   ],
   "source": [
    "setn ={5,4,6,21,37,9,4,12,47}\n",
    "print(\"The maximum value in this sets is:\")\n",
    "print(max(setn))"
   ]
  },
  {
   "cell_type": "code",
   "execution_count": 3,
   "id": "d4ef844d-1a3a-4385-8866-267cd7a377c0",
   "metadata": {},
   "outputs": [
    {
     "name": "stdout",
     "output_type": "stream",
     "text": [
      "The minimum value in this sets is:\n",
      "4\n"
     ]
    }
   ],
   "source": [
    "setn ={5,4,6,21,37,9,4,12,47}\n",
    "print(\"The minimum value in this sets is:\")\n",
    "print(min(setn))"
   ]
  },
  {
   "cell_type": "markdown",
   "id": "0dc76510-1cf2-420c-8206-65272fa10bd1",
   "metadata": {},
   "source": [
    "# Set Operation"
   ]
  },
  {
   "cell_type": "markdown",
   "id": "c7c5dc06-17e7-4409-86eb-5c7e56b5bc9f",
   "metadata": {},
   "source": [
    "##### Union method"
   ]
  },
  {
   "cell_type": "code",
   "execution_count": 4,
   "id": "9136f6c8-5416-476a-9eaf-f8b6218956c3",
   "metadata": {
    "collapsed": true,
    "jupyter": {
     "outputs_hidden": true
    },
    "scrolled": true
   },
   "outputs": [
    {
     "name": "stdout",
     "output_type": "stream",
     "text": [
      "{1, 2, 3, 4, 5, 6, 7, 8, 9}\n"
     ]
    }
   ],
   "source": [
    "set1 ={1,2,3,4,5}\n",
    "set2= {4,5,6,7,8,9}\n",
    "union_set = set1.union(set2)      # UNION METHOD\n",
    "print(union_set)"
   ]
  },
  {
   "cell_type": "markdown",
   "id": "9d393d34-4b84-496d-be39-0a50f22c5b56",
   "metadata": {},
   "source": [
    "##### Intersection method"
   ]
  },
  {
   "cell_type": "code",
   "execution_count": 7,
   "id": "e7aa3962-772d-4de4-a743-d58ef4e3e013",
   "metadata": {},
   "outputs": [
    {
     "name": "stdout",
     "output_type": "stream",
     "text": [
      "{4, 5}\n"
     ]
    }
   ],
   "source": [
    "set1 ={1,2,3,4,5}\n",
    "set2= {4,5,6,7,8,9}\n",
    "intersection_set = set1.intersection(set2)      # INTERSECTION METHOD\n",
    "print(intersection_set)"
   ]
  },
  {
   "cell_type": "markdown",
   "id": "d1c4c7b7-a39d-4e3b-bb86-441db0d42c80",
   "metadata": {},
   "source": [
    "##### Difference method"
   ]
  },
  {
   "cell_type": "code",
   "execution_count": 8,
   "id": "1687dd05-860d-4dfc-9dde-3de38f812813",
   "metadata": {},
   "outputs": [
    {
     "name": "stdout",
     "output_type": "stream",
     "text": [
      "{1, 2, 3}\n"
     ]
    }
   ],
   "source": [
    "set1 ={1,2,3,4,5}\n",
    "set2= {4,5,6,7,8,9}\n",
    "Difference_set = set1.difference(set2)      # DIFFERENCE METHOD\n",
    "print(Difference_set)"
   ]
  },
  {
   "cell_type": "code",
   "execution_count": 9,
   "id": "e4105390-b690-4e20-ba0e-6cb6d5ad2822",
   "metadata": {},
   "outputs": [
    {
     "name": "stdout",
     "output_type": "stream",
     "text": [
      "{8, 9, 6, 7}\n"
     ]
    }
   ],
   "source": [
    "set1 ={1,2,3,4,5}\n",
    "set2= {4,5,6,7,8,9}\n",
    "Difference_set = set2.difference(set1)      # DIFFERENCE METHOD\n",
    "print(Difference_set)"
   ]
  },
  {
   "cell_type": "markdown",
   "id": "e7b4f6fd-24c8-4091-9921-9b7f6daadd3d",
   "metadata": {},
   "source": [
    "## Practice question"
   ]
  },
  {
   "cell_type": "markdown",
   "id": "6c349496-af47-41b4-9779-c7b1d09edd38",
   "metadata": {},
   "source": [
    "Define two sets students_passed_math and students_passed_science\n",
    "containing student IDs who Math and Science respectively. Write python code to:\n",
    "\n",
    "1) Print the number of student who passed both Math and science.\n",
    "2) print the student IDs who passed only math.\n",
    "3) Print the studenrt IDs who passed only Science.\n",
    "4) Determine if student_passed_math is a subset of student_passed_science.\n",
    "5) Determine if student_passed_math is a superset of student_passed_science.\n"
   ]
  },
  {
   "cell_type": "code",
   "execution_count": 25,
   "id": "c6d52a6a-dad8-470c-9ee9-68267f285ce9",
   "metadata": {},
   "outputs": [],
   "source": [
    "#define the two sets\n",
    "students_passed_math ={101,102,103,104,105,106}\n",
    "students_passed_science={103,104,105,106,107}"
   ]
  },
  {
   "cell_type": "code",
   "execution_count": 26,
   "id": "e8bbae01-76ec-4abf-b45c-684eaa7529df",
   "metadata": {},
   "outputs": [
    {
     "name": "stdout",
     "output_type": "stream",
     "text": [
      "The students id os those students who have passed both math and science:\n",
      "{104, 105, 106, 103}\n",
      "total students passed in both mnth and science 4\n"
     ]
    }
   ],
   "source": [
    "both_passed = students_passed_math.intersection(students_passed_science)                 #1\n",
    "print(\"The students id os those students who have passed both math and science:\")\n",
    "print(both_passed)\n",
    "print(\"total students passed in both mnth and science\",len(both_passed))"
   ]
  },
  {
   "cell_type": "code",
   "execution_count": 27,
   "id": "37e89d5d-bc53-4dad-95d6-3bb5f2fe0493",
   "metadata": {},
   "outputs": [
    {
     "name": "stdout",
     "output_type": "stream",
     "text": [
      "the id of student who passed only math : {101, 102}\n"
     ]
    }
   ],
   "source": [
    "Only_math =students_passed_math.difference(students_passed_science)                       #2\n",
    "print(\"the id of student who passed only math :\",Only_math)"
   ]
  },
  {
   "cell_type": "code",
   "execution_count": 28,
   "id": "ec122176-bec0-4fc7-afb5-2e8cb5bb7edb",
   "metadata": {},
   "outputs": [
    {
     "name": "stdout",
     "output_type": "stream",
     "text": [
      "the id of student who passed only math : {107}\n"
     ]
    }
   ],
   "source": [
    "Only_science =students_passed_science.difference(students_passed_math)                       #3\n",
    "print(\"the id of student who passed only math :\",Only_science)"
   ]
  },
  {
   "cell_type": "code",
   "execution_count": 29,
   "id": "332f12d1-4859-4508-a987-6047e7d7c0fe",
   "metadata": {
    "collapsed": true,
    "jupyter": {
     "outputs_hidden": true
    },
    "scrolled": true
   },
   "outputs": [
    {
     "name": "stdout",
     "output_type": "stream",
     "text": [
      "is students in maths is a subsets of student passed in science False\n"
     ]
    }
   ],
   "source": [
    "sub = students_passed_math.issubset(students_passed_science)                             #4\n",
    "print(\"is students in maths is a subsets of student passed in science\",sub)"
   ]
  },
  {
   "cell_type": "code",
   "execution_count": 31,
   "id": "2ed8ee01-a07d-4801-9623-f37ba65f3390",
   "metadata": {
    "collapsed": true,
    "jupyter": {
     "outputs_hidden": true
    },
    "scrolled": true
   },
   "outputs": [
    {
     "name": "stdout",
     "output_type": "stream",
     "text": [
      "is students in scienc is a subsets of student passed in math False\n"
     ]
    }
   ],
   "source": [
    "sub = students_passed_science.issubset(students_passed_math)\n",
    "print(\"is students in scienc is a subsets of student passed in math\",sub)"
   ]
  },
  {
   "cell_type": "code",
   "execution_count": 32,
   "id": "ac6657e7-eb05-4d1f-9051-d5f262ec65d7",
   "metadata": {},
   "outputs": [
    {
     "name": "stdout",
     "output_type": "stream",
     "text": [
      "is students in maths is a superset of student passed in science False\n"
     ]
    }
   ],
   "source": [
    "sub = students_passed_math.issuperset(students_passed_science)                         #5\n",
    "print(\"is students in maths is a superset of student passed in science\",sub)"
   ]
  }
 ],
 "metadata": {
  "kernelspec": {
   "display_name": "Python 3 (ipykernel)",
   "language": "python",
   "name": "python3"
  },
  "language_info": {
   "codemirror_mode": {
    "name": "ipython",
    "version": 3
   },
   "file_extension": ".py",
   "mimetype": "text/x-python",
   "name": "python",
   "nbconvert_exporter": "python",
   "pygments_lexer": "ipython3",
   "version": "3.12.7"
  }
 },
 "nbformat": 4,
 "nbformat_minor": 5
}
