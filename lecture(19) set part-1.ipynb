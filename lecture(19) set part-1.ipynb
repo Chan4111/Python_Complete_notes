{
 "cells": [
  {
   "cell_type": "markdown",
   "id": "9607a117-9887-46cf-a572-fc3c8cffa4ed",
   "metadata": {},
   "source": [
    "## Sets in Python -  Part(1)"
   ]
  },
  {
   "cell_type": "markdown",
   "id": "c48bfad4-ca28-4265-9864-1c4f1294cbab",
   "metadata": {},
   "source": [
    "### What is Sets?"
   ]
  },
  {
   "cell_type": "markdown",
   "id": "bbbdcc1b-285a-44db-bdcb-18d2717b6634",
   "metadata": {},
   "source": [
    "In Python ,a set is an unordered collection of unique elements.This means that within a set , no element can be\n",
    "duplicate\n",
    "\n",
    "\n",
    "## Characteristics of sets:\n",
    "* Unordered :  Elements in set do not have a specific order.\n",
    "* Unique Elements : All elements in a set are unique . Duplicate elements are automatically removed.\n",
    "* Mutable : Sets can be modified after creation, allowing elements to be added or removed.\n",
    "* Iterable: Sets can be iterated over , meaning you can loop through the elements in a set"
   ]
  },
  {
   "cell_type": "markdown",
   "id": "bfb09bb8-7966-482d-abae-c619c734ac73",
   "metadata": {},
   "source": [
    "### Creating sets"
   ]
  },
  {
   "cell_type": "code",
   "execution_count": 21,
   "id": "50b0ba67-a076-4689-ae90-17da66b9489f",
   "metadata": {},
   "outputs": [
    {
     "name": "stdout",
     "output_type": "stream",
     "text": [
      "{1, 2, 3, 4, 5, 6, 7}\n",
      "<class 'set'>\n"
     ]
    }
   ],
   "source": [
    "my_var ={1,2,3,4,5,6,7}\n",
    "print(my_var)\n",
    "print(type(my_var))"
   ]
  },
  {
   "cell_type": "markdown",
   "id": "b8724545-a26f-46f2-b19d-0a7895678369",
   "metadata": {},
   "source": [
    "### set() method  "
   ]
  },
  {
   "cell_type": "code",
   "execution_count": 4,
   "id": "86e8c1d5-6a38-4457-add4-dec3fe0ddb9a",
   "metadata": {},
   "outputs": [
    {
     "name": "stdout",
     "output_type": "stream",
     "text": [
      "{40, 10, 50, 20, 60, 30}\n",
      "<class 'set'>\n"
     ]
    }
   ],
   "source": [
    "another_set = set([10,20,30,40,50,60])\n",
    "print(another_set)\n",
    "print(type(another_set))"
   ]
  },
  {
   "cell_type": "markdown",
   "id": "0d1db8da-9bca-4e65-9a62-ad6fbaccb143",
   "metadata": {},
   "source": [
    "### Empty set"
   ]
  },
  {
   "cell_type": "code",
   "execution_count": 5,
   "id": "2572bce6-64ce-4772-aa65-4bac04ef4d87",
   "metadata": {},
   "outputs": [
    {
     "name": "stdout",
     "output_type": "stream",
     "text": [
      "{}\n",
      "<class 'dict'>\n"
     ]
    }
   ],
   "source": [
    "abc={}\n",
    "print(abc)\n",
    "print(type(abc))"
   ]
  },
  {
   "cell_type": "code",
   "execution_count": 6,
   "id": "f0239923-1955-4c10-81b9-12b4b581c536",
   "metadata": {},
   "outputs": [
    {
     "name": "stdout",
     "output_type": "stream",
     "text": [
      "set()\n",
      "<class 'set'>\n"
     ]
    }
   ],
   "source": [
    "xyz = set()\n",
    "print(xyz)\n",
    "print(type(xyz))"
   ]
  },
  {
   "cell_type": "markdown",
   "id": "75e33940-d41e-4dba-a8ff-f7b7cbd316f1",
   "metadata": {},
   "source": [
    "# Propeties of Sets"
   ]
  },
  {
   "cell_type": "markdown",
   "id": "49f1b3d9-f415-4664-9327-fbbbe4489259",
   "metadata": {},
   "source": [
    "### 1) Unordered"
   ]
  },
  {
   "cell_type": "code",
   "execution_count": 7,
   "id": "80580fce-7fe9-4b58-80de-a3287a72f47e",
   "metadata": {},
   "outputs": [
    {
     "name": "stdout",
     "output_type": "stream",
     "text": [
      "{3, 4, 5, 6, 7, 24}\n"
     ]
    }
   ],
   "source": [
    "my_set ={3,4,7,6,5,4,24}\n",
    "print(my_set)"
   ]
  },
  {
   "cell_type": "markdown",
   "id": "0f322030-20a7-4e8e-bf4a-895bbe6f7b31",
   "metadata": {},
   "source": [
    "### 2) No indexing/slicing"
   ]
  },
  {
   "cell_type": "code",
   "execution_count": 8,
   "id": "daf68687-df70-48ff-970b-003218eef47e",
   "metadata": {},
   "outputs": [
    {
     "ename": "TypeError",
     "evalue": "'set' object is not subscriptable",
     "output_type": "error",
     "traceback": [
      "\u001b[1;31m---------------------------------------------------------------------------\u001b[0m",
      "\u001b[1;31mTypeError\u001b[0m                                 Traceback (most recent call last)",
      "Cell \u001b[1;32mIn[8], line 2\u001b[0m\n\u001b[0;32m      1\u001b[0m a \u001b[38;5;241m=\u001b[39m{\u001b[38;5;124m'\u001b[39m\u001b[38;5;124manimals\u001b[39m\u001b[38;5;124m'\u001b[39m,\u001b[38;5;124m'\u001b[39m\u001b[38;5;124mball\u001b[39m\u001b[38;5;124m'\u001b[39m,\u001b[38;5;124m'\u001b[39m\u001b[38;5;124mcat\u001b[39m\u001b[38;5;124m'\u001b[39m}\n\u001b[1;32m----> 2\u001b[0m \u001b[38;5;28mprint\u001b[39m(a[\u001b[38;5;241m0\u001b[39m])\n",
      "\u001b[1;31mTypeError\u001b[0m: 'set' object is not subscriptable"
     ]
    }
   ],
   "source": [
    "a ={'animals','ball','cat'}\n",
    "print(a[0])"
   ]
  },
  {
   "cell_type": "code",
   "execution_count": 9,
   "id": "a10f73cd-4128-4a29-8eaa-86bc19205b51",
   "metadata": {},
   "outputs": [
    {
     "ename": "TypeError",
     "evalue": "'set' object is not subscriptable",
     "output_type": "error",
     "traceback": [
      "\u001b[1;31m---------------------------------------------------------------------------\u001b[0m",
      "\u001b[1;31mTypeError\u001b[0m                                 Traceback (most recent call last)",
      "Cell \u001b[1;32mIn[9], line 2\u001b[0m\n\u001b[0;32m      1\u001b[0m a \u001b[38;5;241m=\u001b[39m{\u001b[38;5;124m'\u001b[39m\u001b[38;5;124manimals\u001b[39m\u001b[38;5;124m'\u001b[39m,\u001b[38;5;124m'\u001b[39m\u001b[38;5;124mball\u001b[39m\u001b[38;5;124m'\u001b[39m,\u001b[38;5;124m'\u001b[39m\u001b[38;5;124mcat\u001b[39m\u001b[38;5;124m'\u001b[39m}\n\u001b[1;32m----> 2\u001b[0m \u001b[38;5;28mprint\u001b[39m(a[\u001b[38;5;241m0\u001b[39m:\u001b[38;5;241m2\u001b[39m])\n",
      "\u001b[1;31mTypeError\u001b[0m: 'set' object is not subscriptable"
     ]
    }
   ],
   "source": [
    "a ={'animals','ball','cat'}\n",
    "print(a[0:2])"
   ]
  },
  {
   "cell_type": "markdown",
   "id": "72307024-8724-443f-a47c-e099f8a80a71",
   "metadata": {},
   "source": [
    "### 3) Unique Elements"
   ]
  },
  {
   "cell_type": "code",
   "execution_count": 16,
   "id": "b03f8f85-0331-46dc-ade3-3e81454a48c5",
   "metadata": {},
   "outputs": [
    {
     "name": "stdout",
     "output_type": "stream",
     "text": [
      "{1, 2, 3, 4, 5, 6, 7, 8, 10, 12, 14, 15, 17, 18, 19, 51, 54}\n"
     ]
    }
   ],
   "source": [
    "m1= {8,4,6,7,5,1,2,3,10,54,12,14,12,17,18,17,19,19,17,12,15,14,15,14,51,14}\n",
    "print(m1)"
   ]
  },
  {
   "cell_type": "markdown",
   "id": "1138e2b5-70d6-40ed-a24a-27e045f18718",
   "metadata": {},
   "source": [
    "### 4) Iterable"
   ]
  },
  {
   "cell_type": "code",
   "execution_count": 17,
   "id": "e56a0337-067c-4232-a36a-7d002a6f4855",
   "metadata": {},
   "outputs": [
    {
     "name": "stdout",
     "output_type": "stream",
     "text": [
      "4\n",
      "37\n",
      "25\n",
      "157\n",
      "14\n"
     ]
    }
   ],
   "source": [
    "my_set ={14,25,37,4,157}\n",
    "for element in my_set:\n",
    "    print(element)"
   ]
  },
  {
   "cell_type": "markdown",
   "id": "22a6ba2a-bd1d-4e63-badb-f468d7ef0ec6",
   "metadata": {},
   "source": [
    "### 5) Hashable elements"
   ]
  },
  {
   "cell_type": "markdown",
   "id": "fbedfbd5-683d-47a3-8e0c-71ff59f9f605",
   "metadata": {},
   "source": [
    "only hasable object (objects with a fixed hash value) can be add to a set .this means that sets cannot contain mutable\n",
    "type like lists or dictionary"
   ]
  },
  {
   "cell_type": "code",
   "execution_count": 18,
   "id": "cbd3f7a7-71a2-4ea5-8fb1-6d3d0db61e01",
   "metadata": {},
   "outputs": [
    {
     "name": "stdout",
     "output_type": "stream",
     "text": [
      "{4, 37, 25, 157, 14}\n"
     ]
    }
   ],
   "source": [
    "my_list ={1,2,3,\"a\",3.6,(10,20)}\n",
    "print(my_set)"
   ]
  },
  {
   "cell_type": "code",
   "execution_count": 19,
   "id": "8d1d8862-5920-4676-b268-6f20d9db68e2",
   "metadata": {},
   "outputs": [
    {
     "ename": "TypeError",
     "evalue": "unhashable type: 'list'",
     "output_type": "error",
     "traceback": [
      "\u001b[1;31m---------------------------------------------------------------------------\u001b[0m",
      "\u001b[1;31mTypeError\u001b[0m                                 Traceback (most recent call last)",
      "Cell \u001b[1;32mIn[19], line 1\u001b[0m\n\u001b[1;32m----> 1\u001b[0m my_list \u001b[38;5;241m=\u001b[39m{\u001b[38;5;241m1\u001b[39m,\u001b[38;5;241m2\u001b[39m,\u001b[38;5;241m3\u001b[39m,\u001b[38;5;124m\"\u001b[39m\u001b[38;5;124ma\u001b[39m\u001b[38;5;124m\"\u001b[39m,\u001b[38;5;241m3.6\u001b[39m,(\u001b[38;5;241m10\u001b[39m,\u001b[38;5;241m20\u001b[39m),[\u001b[38;5;241m34\u001b[39m,\u001b[38;5;241m54\u001b[39m,\u001b[38;5;241m12\u001b[39m,\u001b[38;5;241m21\u001b[39m]}\n\u001b[0;32m      2\u001b[0m \u001b[38;5;28mprint\u001b[39m(my_set)\n",
      "\u001b[1;31mTypeError\u001b[0m: unhashable type: 'list'"
     ]
    }
   ],
   "source": [
    "my_list ={1,2,3,\"a\",3.6,(10,20),[34,54,12,21]}   ## list ke lane ke karne aisa hauo hai\n",
    "print(my_set)"
   ]
  },
  {
   "cell_type": "code",
   "execution_count": 20,
   "id": "dd444bff-233d-4520-8d5e-b850eee256a7",
   "metadata": {},
   "outputs": [
    {
     "ename": "TypeError",
     "evalue": "unhashable type: 'dict'",
     "output_type": "error",
     "traceback": [
      "\u001b[1;31m---------------------------------------------------------------------------\u001b[0m",
      "\u001b[1;31mTypeError\u001b[0m                                 Traceback (most recent call last)",
      "Cell \u001b[1;32mIn[20], line 1\u001b[0m\n\u001b[1;32m----> 1\u001b[0m x \u001b[38;5;241m=\u001b[39m{\u001b[38;5;241m45\u001b[39m,\u001b[38;5;241m14\u001b[39m,\u001b[38;5;241m27\u001b[39m,\u001b[38;5;241m81\u001b[39m,{\u001b[38;5;124m'\u001b[39m\u001b[38;5;124ma\u001b[39m\u001b[38;5;124m'\u001b[39m:\u001b[38;5;241m1\u001b[39m, \u001b[38;5;124m'\u001b[39m\u001b[38;5;124mb\u001b[39m\u001b[38;5;124m'\u001b[39m:\u001b[38;5;241m2\u001b[39m}}\n\u001b[0;32m      2\u001b[0m \u001b[38;5;28mprint\u001b[39m(x)\n",
      "\u001b[1;31mTypeError\u001b[0m: unhashable type: 'dict'"
     ]
    }
   ],
   "source": [
    "x ={45,14,27,81,{'a':1, 'b':2}}\n",
    "print(x)"
   ]
  }
 ],
 "metadata": {
  "kernelspec": {
   "display_name": "Python 3 (ipykernel)",
   "language": "python",
   "name": "python3"
  },
  "language_info": {
   "codemirror_mode": {
    "name": "ipython",
    "version": 3
   },
   "file_extension": ".py",
   "mimetype": "text/x-python",
   "name": "python",
   "nbconvert_exporter": "python",
   "pygments_lexer": "ipython3",
   "version": "3.12.7"
  }
 },
 "nbformat": 4,
 "nbformat_minor": 5
}
