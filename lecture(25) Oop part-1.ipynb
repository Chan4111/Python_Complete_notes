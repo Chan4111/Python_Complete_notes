{
 "cells": [
  {
   "cell_type": "markdown",
   "id": "af244dc9-e2ee-47f9-b3e0-5fbaa9d57e60",
   "metadata": {},
   "source": [
    "## Object Oriented programming"
   ]
  },
  {
   "cell_type": "raw",
   "id": "d3e317fb-6553-46f5-9d04-431279ee313c",
   "metadata": {},
   "source": [
    "                                                         Programming Patadigms\n",
    "                                                                   |\n",
    "                                              _____________________|_____________________              \n",
    "                                              |                                         |\n",
    "                                              |                                         |\n",
    "                                              |                                         |\n",
    "                                    Imperative Paradigms                         Declarative Paradigms\n",
    "                                              |                                         |\n",
    "                            __________________|____________                   __________|_______________\n",
    "                            |                 |            |                 |                          |\n",
    "                            |                 |            |                 |                          |\n",
    "                Prosedural Programming        |      Obect Oriented        Functional                   |\n",
    "                                              |         Progamming         Progamming                   |\n",
    "                                              |                                                         |\n",
    "                                Structural Programming                                          Logic Progamming\n",
    "\n",
    "                                "
   ]
  },
  {
   "cell_type": "markdown",
   "id": "9a2cf897-39d5-491f-8ca6-299152bde2d0",
   "metadata": {},
   "source": [
    "##### Procedural Programming"
   ]
  },
  {
   "cell_type": "code",
   "execution_count": 1,
   "id": "c05d1a7c-90c5-445c-be21-362db250863e",
   "metadata": {},
   "outputs": [
    {
     "name": "stdout",
     "output_type": "stream",
     "text": [
      "30\n",
      "10\n"
     ]
    }
   ],
   "source": [
    "num1 =20\n",
    "num2 =10\n",
    "\n",
    "sum = num1+num2\n",
    "diff =num1-num2\n",
    "print(sum)\n",
    "print(diff)"
   ]
  },
  {
   "cell_type": "markdown",
   "id": "2e47bde9-3a9b-452a-8515-2d0ef554d6d2",
   "metadata": {},
   "source": [
    "##### Functional Programming"
   ]
  },
  {
   "cell_type": "code",
   "execution_count": 7,
   "id": "5b18fa29-c6cc-432d-9997-970f13efd21b",
   "metadata": {},
   "outputs": [
    {
     "name": "stdin",
     "output_type": "stream",
     "text": [
      "Enter the first value: 50\n",
      "Enter the Second value : 20\n"
     ]
    },
    {
     "name": "stdout",
     "output_type": "stream",
     "text": [
      "70\n",
      "30\n"
     ]
    }
   ],
   "source": [
    "def sum(a,b):\n",
    "    c=a+b\n",
    "    print(c)\n",
    "\n",
    "def diff(a,b):\n",
    "    d=a-b\n",
    "    print(d)\n",
    "\n",
    "a=int(input(\"Enter the first value:\"))\n",
    "b=int(input(\"Enter the Second value :\"))\n",
    "sum(a,b)\n",
    "diff(a,b)"
   ]
  },
  {
   "cell_type": "markdown",
   "id": "cfb690d8-5d7d-4aef-adf4-d710714bffc1",
   "metadata": {},
   "source": [
    "#### Object Oriented Programming"
   ]
  },
  {
   "cell_type": "code",
   "execution_count": 8,
   "id": "7a170667-ce48-4d29-9b32-f729bdcf7d6c",
   "metadata": {},
   "outputs": [],
   "source": [
    "class calculator:\n",
    "    def add(self,a,b):\n",
    "        print(a+b)\n",
    "    def diff(self,a,b):\n",
    "        print(a-b)                   ## Create a class\n",
    "    def multi(self,a,b):\n",
    "        print(a*b)\n",
    "    def div(self,a,b):\n",
    "        print(a/b)\n",
    "    def modu(self,a,b):\n",
    "        print(a%b)\n",
    "        "
   ]
  },
  {
   "cell_type": "code",
   "execution_count": 9,
   "id": "f360c056-a8b7-4c9d-bd74-1bfd33c59f1d",
   "metadata": {},
   "outputs": [],
   "source": [
    "cals = calculator()                 ## create a object "
   ]
  },
  {
   "cell_type": "code",
   "execution_count": 10,
   "id": "8acff252-ecc6-453f-ac83-27dacefbdf03",
   "metadata": {},
   "outputs": [
    {
     "name": "stdout",
     "output_type": "stream",
     "text": [
      "50\n"
     ]
    }
   ],
   "source": [
    "cals.add(40,10)                     ## call the function with object"
   ]
  },
  {
   "cell_type": "code",
   "execution_count": 11,
   "id": "0fc22929-b579-4ce9-a901-7df9f5f7a96e",
   "metadata": {},
   "outputs": [
    {
     "name": "stdout",
     "output_type": "stream",
     "text": [
      "-11\n"
     ]
    }
   ],
   "source": [
    "cals.diff(54,65)"
   ]
  },
  {
   "cell_type": "code",
   "execution_count": 12,
   "id": "54b93f65-38d5-4bf1-a890-bd9a29d70ef8",
   "metadata": {},
   "outputs": [
    {
     "name": "stdout",
     "output_type": "stream",
     "text": [
      "225\n"
     ]
    }
   ],
   "source": [
    "cals.multi(45,5)"
   ]
  },
  {
   "cell_type": "code",
   "execution_count": 13,
   "id": "0740dbea-c1f0-462e-b7b0-4beb3523a1fe",
   "metadata": {},
   "outputs": [
    {
     "name": "stdout",
     "output_type": "stream",
     "text": [
      "9.0\n"
     ]
    }
   ],
   "source": [
    "cals.div(45,5)"
   ]
  },
  {
   "cell_type": "code",
   "execution_count": 14,
   "id": "48afdb97-8ebd-4714-8bdf-4a34f9dcf79b",
   "metadata": {},
   "outputs": [
    {
     "name": "stdout",
     "output_type": "stream",
     "text": [
      "3\n"
     ]
    }
   ],
   "source": [
    "cals.modu(45,6)"
   ]
  },
  {
   "cell_type": "markdown",
   "id": "ede26b59-7f2a-4409-bfba-859aab753796",
   "metadata": {},
   "source": [
    "### What is Oops on python?"
   ]
  },
  {
   "cell_type": "raw",
   "id": "fa1eec7e-81d7-4339-a312-9619ddbd1172",
   "metadata": {},
   "source": [
    "Object-oriented Programming (oop) in Python is away to organize and structure code by using \n",
    "classes and objects to represent real-world entities.\n",
    "\n",
    "Progamming paradigm ek approach hai jo definr karta hai ki hum code kaise likhte hain aur organize\n",
    "karte hain.\n",
    "\n",
    "OOP ek programming paradign hai jo real-world entities ko represent karne ke liye objects aur classes ka use karte hai."
   ]
  },
  {
   "cell_type": "markdown",
   "id": "cba6c291-1449-4b20-aca1-6d74cf8b3041",
   "metadata": {},
   "source": [
    "### Class and Object"
   ]
  },
  {
   "cell_type": "markdown",
   "id": "cb7b70aa-94ed-453a-b682-1d22a2c23f88",
   "metadata": {},
   "source": [
    "##### Class kya hota hai?"
   ]
  },
  {
   "cell_type": "raw",
   "id": "34e22515-045e-4c56-b26b-8b8b4852113c",
   "metadata": {},
   "source": [
    "Class ek blueprint ya template hoti hai jo define karti hai ki ek object kaisa hoga aur uske kya-kya properties\n",
    "(attributes) aur actions(mrthods) honge. class ek general structure provide karti hai jo baad mein multiple\n",
    "objects ko create karne ke kaam aati hai.\n",
    "\n",
    "Attributes(Properties):Yeh wo characteristics hain jo clasds ke objects ke pass hoti hain. jaise ,agar hum car class ki\n",
    "baat karein,to attributes ho sakte hain:model,color,etc.\n",
    "\n",
    "Methods(Functions):Yeh wo actions hain jo class ke objects perform kar sakte hain. jaise,agar hum carko start karein,to methods ho sakte \n",
    "hain:start,stop,etc"
   ]
  },
  {
   "cell_type": "markdown",
   "id": "b9c0d09a-dd71-40e2-92c1-c3bf52547cb1",
   "metadata": {},
   "source": [
    "##### Object Kya hota hai?"
   ]
  },
  {
   "cell_type": "code",
   "execution_count": null,
   "id": "91153697-1e1a-4cd4-b56b-025d49fbbf71",
   "metadata": {},
   "outputs": [],
   "source": [
    "Object ek specific instance hota hai class ka.Matlab, Objectek real-world entity ko represent karte hai jo class ke\n",
    "arrributes aur methods use kar sakta ha. jab hum ek object create karte hain,yo hum us class ke blueprint ko follow \n",
    "karte hain."
   ]
  },
  {
   "cell_type": "markdown",
   "id": "492ea190-2a93-4556-bfec-4048bd55b0a0",
   "metadata": {},
   "source": [
    "#### Example"
   ]
  },
  {
   "cell_type": "code",
   "execution_count": 17,
   "id": "56bd0854-1e3c-4807-8d68-99fcd344128f",
   "metadata": {},
   "outputs": [
    {
     "name": "stdout",
     "output_type": "stream",
     "text": [
      "The RedToyota car is starting.\n",
      "The BlackHonda car is starting.\n"
     ]
    }
   ],
   "source": [
    "class car:\n",
    "    def start(self):\n",
    "        print(f\"The {self.color}{self.model} car is starting.\")\n",
    "\n",
    "#object creation aur attributes set karna\n",
    "car1 =car()\n",
    "car1.model =\"Toyota\"\n",
    "car1.color =\"Red\"\n",
    "\n",
    "car2=car()\n",
    "car2.model =\"Honda\"\n",
    "car2.color =\"Black\"\n",
    "\n",
    "#Metods call karna\n",
    "car1.start()\n",
    "car2.start()"
   ]
  },
  {
   "cell_type": "code",
   "execution_count": 19,
   "id": "fcd2f832-523b-4b4b-ada2-f82b61db038a",
   "metadata": {},
   "outputs": [
    {
     "name": "stdin",
     "output_type": "stream",
     "text": [
      "Enter your name : chandan kumar\n",
      "Enter your rollno : 45127\n",
      "enter your email tbjdj@gmail.com\n"
     ]
    },
    {
     "name": "stdout",
     "output_type": "stream",
     "text": [
      "The student name ischandan kumar\n",
      "The student Roll number is45127\n",
      "The student email istbjdj@gmail.com\n"
     ]
    }
   ],
   "source": [
    "class sec_A:\n",
    "    def student(self):\n",
    "        print(f\"The student name is{self.name}\")\n",
    "        print(f\"The student Roll number is{self.rollno}\")\n",
    "        print(f\"The student email is{self.email}\")            \n",
    "\n",
    "# boject creation aur attribute set kar rahe hai\n",
    "stu1 =sec_A()\n",
    "stu1.name =input(\"Enter your name :\")\n",
    "stu1.rollno=int(input(\"Enter your rollno :\"))\n",
    "stu1.email=input(\"enter your email\")\n",
    "\n",
    "#nethod call karna\n",
    "stu1.student()\n",
    "        "
   ]
  },
  {
   "cell_type": "markdown",
   "id": "9f275555-1031-4acd-ace3-3d004fe66eef",
   "metadata": {},
   "source": [
    "### init function"
   ]
  },
  {
   "cell_type": "markdown",
   "id": "adccec94-0542-483d-a4d5-0ee44780d232",
   "metadata": {},
   "source": [
    "##### init_ function kya hai?"
   ]
  },
  {
   "cell_type": "raw",
   "id": "ddde4089-1aa6-4445-a2e3-04ed05aedf2a",
   "metadata": {},
   "source": [
    "init function ek special method hai jo class ke object create hone par automatic call hota hai. Is function ka kaam hai object \n",
    "initial properties ko set karna. Is function ko constructor bhi kehte hain.  "
   ]
  },
  {
   "cell_type": "markdown",
   "id": "702565b0-ad36-4919-b10e-29211b7f8641",
   "metadata": {},
   "source": [
    "###### __init__ function kyu banate hain?"
   ]
  },
  {
   "cell_type": "raw",
   "id": "c59bb6dd-ae68-466c-bf51-ef63a488a7cb",
   "metadata": {},
   "source": [
    "Initialization: Object ke properties ko initial values dene ke liye\n",
    "Automatic call : Jab bhi object  banate hain, __init__ function automatic call hota hai.\n",
    "Consistency : Sab objects ko consistent initial state dena ke liye."
   ]
  },
  {
   "cell_type": "markdown",
   "id": "43ee0573-f32f-4ddb-93b9-ebaf0554eea2",
   "metadata": {},
   "source": [
    "###### Example of init function"
   ]
  },
  {
   "cell_type": "code",
   "execution_count": 43,
   "id": "713373de-235e-467f-9481-ad947a29cd6e",
   "metadata": {},
   "outputs": [
    {
     "name": "stdout",
     "output_type": "stream",
     "text": [
      "The blacktoyota car is starting\n"
     ]
    }
   ],
   "source": [
    "class Car:\n",
    "    def __init__(self,model,color):\n",
    "        self.model =model\n",
    "        self.color=color\n",
    "\n",
    "    def start(self):\n",
    "        print(f\"The {self.color}{self.model} car is starting\")\n",
    "\n",
    "car1 = Car(\"toyota\",\"black\")\n",
    "car1.start()"
   ]
  },
  {
   "cell_type": "markdown",
   "id": "4fc79201-f4ae-4ccb-951c-fb095c22988c",
   "metadata": {},
   "source": [
    "##### practice question 1\n"
   ]
  },
  {
   "cell_type": "raw",
   "id": "8268e737-da42-478b-b866-7e36e5b63258",
   "metadata": {},
   "source": [
    "Which of the following is true about classes in Python?\n",
    "a) classes are the instances of objects.\n",
    "b)classes are blueprints for creating objects.\n",
    "c) classes cannot have methods.\n",
    "d) classes cannot have attributes"
   ]
  },
  {
   "cell_type": "raw",
   "id": "e833783d-177c-45be-94ec-1447abbf05ab",
   "metadata": {},
   "source": [
    "ans:(b)"
   ]
  },
  {
   "cell_type": "markdown",
   "id": "393a8cf8-1ba8-4612-89b7-42492a750b96",
   "metadata": {},
   "source": [
    "##### practice question 2"
   ]
  },
  {
   "cell_type": "raw",
   "id": "8306b7ed-2570-4122-958d-3e3a8b4322c1",
   "metadata": {},
   "source": [
    "Which of the following statements creates an instance of the class person?\n",
    "a) Person p = new Person()\n",
    "b) p=Person()\n",
    "c) p =new person\n",
    "d)Person p =Person()"
   ]
  },
  {
   "cell_type": "code",
   "execution_count": null,
   "id": "f5bb6011-c280-4563-b22e-34da3faa355c",
   "metadata": {},
   "outputs": [],
   "source": [
    "ans:(b)"
   ]
  }
 ],
 "metadata": {
  "kernelspec": {
   "display_name": "Python 3 (ipykernel)",
   "language": "python",
   "name": "python3"
  },
  "language_info": {
   "codemirror_mode": {
    "name": "ipython",
    "version": 3
   },
   "file_extension": ".py",
   "mimetype": "text/x-python",
   "name": "python",
   "nbconvert_exporter": "python",
   "pygments_lexer": "ipython3",
   "version": "3.12.7"
  }
 },
 "nbformat": 4,
 "nbformat_minor": 5
}
