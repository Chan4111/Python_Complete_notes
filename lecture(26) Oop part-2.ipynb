{
 "cells": [
  {
   "cell_type": "markdown",
   "id": "59ade0d7-7aa0-4887-b4c9-45ec776272e3",
   "metadata": {},
   "source": [
    "## Polymorphism"
   ]
  },
  {
   "cell_type": "markdown",
   "id": "7c5e8d5a-067c-4e1c-a6be-e2efc8bcafa3",
   "metadata": {},
   "source": [
    "Polymorphism ek Greerk  word se aya hai jiska matlab hai \"many forms.\" Programming me polymorphism\n",
    "ka matlab hai ki ek function ya method different objects ke liye different tarike se behave karega. Iska matlab hai ki aap\n",
    "same function/method naasm use kar sakte hain different classes me aur wo classes ke hisab se different behaviour exhibit karega.\n",
    "\n",
    "Polymorphism Object-Oriented Programming (Oops) ka ek fundamental concept hai. yeh allow karta hai\n",
    "ek interface (method/function) ko multiple form me exist karne ke liye. Polymorphism ka primary\n",
    "benefit yeh ki yeh code ko flexible aur resuable banata hai."
   ]
  },
  {
   "cell_type": "markdown",
   "id": "8d012613-aa76-4389-84d6-d55cf9425a77",
   "metadata": {},
   "source": [
    "#### Types of polymorphism"
   ]
  },
  {
   "cell_type": "markdown",
   "id": "07e9dec2-2a38-4b90-8fff-cb364e5c82ec",
   "metadata": {},
   "source": [
    "##### 1 Compile-time Polymorphism"
   ]
  },
  {
   "cell_type": "markdown",
   "id": "02b43bc9-4764-4694-9926-9dda67f5b27a",
   "metadata": {},
   "source": [
    "(Static Polymorphism)Yeh type ka polymorphism compile time\n",
    "per resove hota hai. Python me yeh method overloading aur operator overloading ke throgh\n",
    "achieve hota hai(although Python me direct method overloading support nahi hai,lekin hum default arguments ya \n",
    "variable-length arguments ka use kar sakte hain)."
   ]
  },
  {
   "cell_type": "markdown",
   "id": "bd49a45e-b2ef-4bfc-9b65-25b0fb14ddf8",
   "metadata": {},
   "source": [
    "* Method/function Overloading\n",
    "* Operator Overloading"
   ]
  },
  {
   "cell_type": "markdown",
   "id": "5dda0c7c-0af5-4abf-8884-7a812afc2b48",
   "metadata": {},
   "source": [
    "##### 2 Run-time Polymorphism"
   ]
  },
  {
   "cell_type": "markdown",
   "id": "67412aef-6e75-473d-af03-d0784e912d75",
   "metadata": {},
   "source": [
    "(Dynamic Polymorphism):Yeh type ka polymorphism runtime par\n",
    "resolve hota hai . Pythonme yeh method overriding ke though achieve hota hai."
   ]
  },
  {
   "cell_type": "markdown",
   "id": "7a0a961b-c0b1-4576-98c4-530ca6338521",
   "metadata": {},
   "source": [
    "* Method Overriding"
   ]
  },
  {
   "cell_type": "markdown",
   "id": "91515b49-89b1-4915-a0bb-609a00fa2290",
   "metadata": {},
   "source": [
    "### Polymorphism with functions"
   ]
  },
  {
   "cell_type": "code",
   "execution_count": 1,
   "id": "d730303f-8811-4b14-8c80-faa7bc4ca2b1",
   "metadata": {},
   "outputs": [],
   "source": [
    "class Bird:\n",
    "    def fly(self):\n",
    "        print(\"Bird is flying\")\n",
    "\n",
    "class Airplane:                                 # create a two different class having same function.\n",
    "    def fly(self):\n",
    "        print(\"Airplane is flying\")"
   ]
  },
  {
   "cell_type": "code",
   "execution_count": 2,
   "id": "51e3b441-d23b-47a8-bfd7-71adf96ccd1b",
   "metadata": {},
   "outputs": [],
   "source": [
    "bird =Bird()\n",
    "airplane =Airplane()"
   ]
  },
  {
   "cell_type": "code",
   "execution_count": 3,
   "id": "456cebfe-024c-4157-ae2f-4c0defb1916d",
   "metadata": {},
   "outputs": [
    {
     "name": "stdout",
     "output_type": "stream",
     "text": [
      "Bird is flying\n"
     ]
    }
   ],
   "source": [
    "bird.fly()"
   ]
  },
  {
   "cell_type": "code",
   "execution_count": 4,
   "id": "02dd13f5-6496-496c-a53e-6833c92efc77",
   "metadata": {},
   "outputs": [
    {
     "name": "stdout",
     "output_type": "stream",
     "text": [
      "Airplane is flying\n"
     ]
    }
   ],
   "source": [
    "airplane.fly()"
   ]
  },
  {
   "cell_type": "markdown",
   "id": "c2d78da2-3f6e-49b5-bfef-6cf7da0a775e",
   "metadata": {},
   "source": [
    "####  Run-time Polymorphism / method overriding "
   ]
  },
  {
   "cell_type": "code",
   "execution_count": null,
   "id": "002ddef6-3010-4dbf-bad1-3a4471e58256",
   "metadata": {},
   "outputs": [],
   "source": [
    "Method overriding tab hota hai jab child class\n",
    "apne aprent class ke method ko redefine karti hai.\n",
    "Yeh ensure karta hai ki child class\n",
    "ka method call ho jab object child ka ho"
   ]
  },
  {
   "cell_type": "code",
   "execution_count": 5,
   "id": "0314a100-0fe3-499c-a753-c2e9581c2d01",
   "metadata": {},
   "outputs": [],
   "source": [
    "#parent class\n",
    "class Animal:\n",
    "    def make_sound(self):\n",
    "        print(\"animal make a sound\")\n",
    "\n",
    "#child class\n",
    "class Dog(Animal):\n",
    "    def make_sound(sellf):           # creating parent and child class  \n",
    "        print(\"dog braks:\")          # yaha pr function same hai pr run time pr call different-diferent ho raha hai\n",
    "        \n",
    "#child class\n",
    "class Cat(Animal):\n",
    "    def make_sound(self):\n",
    "        print(\"cat meows\")\n"
   ]
  },
  {
   "cell_type": "code",
   "execution_count": 6,
   "id": "00824ad2-3e44-43ad-b51f-250e59df1fa1",
   "metadata": {},
   "outputs": [],
   "source": [
    "# object create\n",
    "animal=Animal()\n",
    "dog=Dog()\n",
    "cat=Cat()"
   ]
  },
  {
   "cell_type": "code",
   "execution_count": 7,
   "id": "12a3e4d0-0128-4ba7-a604-1aee811961b7",
   "metadata": {},
   "outputs": [
    {
     "name": "stdout",
     "output_type": "stream",
     "text": [
      "animal make a sound\n",
      "dog braks:\n",
      "cat meows\n"
     ]
    }
   ],
   "source": [
    "#call the classes\n",
    "animal.make_sound()\n",
    "dog.make_sound()\n",
    "cat.make_sound()"
   ]
  },
  {
   "cell_type": "markdown",
   "id": "b387a369-14e8-46f6-b5d0-56c6a8fb7a49",
   "metadata": {},
   "source": [
    "##### Compile Time polymorphism -method overloading"
   ]
  },
  {
   "cell_type": "raw",
   "id": "69709a6a-65da-4d57-b60a-fb89f7101c5c",
   "metadata": {},
   "source": [
    "Python me method overloading directly support nahi karta,\n",
    "lekin hum default arguments ka use karke\n",
    "ek method ko multiple tarike se use kar sakte hain."
   ]
  },
  {
   "cell_type": "code",
   "execution_count": 18,
   "id": "6638cdc4-b387-4b07-a178-ede6d3a058a4",
   "metadata": {},
   "outputs": [],
   "source": [
    "class Calculator:\n",
    "    def add(self,a,b,c=0):  ## c=0 yha pr default argument de diye agr mhi denge to .add(2,3) to ye run nhi hoga\n",
    "        print(a+b+c)\n",
    "        "
   ]
  },
  {
   "cell_type": "code",
   "execution_count": 19,
   "id": "a5db47bc-eea5-47bb-9e99-c44b53e68500",
   "metadata": {},
   "outputs": [],
   "source": [
    "cals=Calculator()"
   ]
  },
  {
   "cell_type": "code",
   "execution_count": 20,
   "id": "65fc7d7b-f2f3-4027-bfdf-a1c0e4bf2712",
   "metadata": {},
   "outputs": [
    {
     "name": "stdout",
     "output_type": "stream",
     "text": [
      "5\n"
     ]
    }
   ],
   "source": [
    "cals.add(2,3)"
   ]
  },
  {
   "cell_type": "code",
   "execution_count": 13,
   "id": "bb683a7c-1fd1-4223-a051-e52f837f09b5",
   "metadata": {},
   "outputs": [
    {
     "name": "stdout",
     "output_type": "stream",
     "text": [
      "6\n"
     ]
    }
   ],
   "source": [
    "cals.add(2,1,3)"
   ]
  },
  {
   "cell_type": "markdown",
   "id": "b563e1f6-d481-4352-8527-628634527d2b",
   "metadata": {},
   "source": [
    "### Polymorphism in real world scenario"
   ]
  },
  {
   "cell_type": "code",
   "execution_count": null,
   "id": "07b35100-2c68-4c80-b948-af7611764a05",
   "metadata": {},
   "outputs": [],
   "source": [
    "Imagine kariye ek software application jo different types of media files ko\n",
    "play karta hai jaise audio files aur video files.\n",
    "Hum ek MediaPlayer class create kar sakte hain\n",
    "jo play method ko define karega, aur pjir AudioPlayer\n",
    "aur videoPlayer classes inherit karegi mediaPlayer\n",
    "class ko aur play method ko override karengi apne specific behaviour ke liye."
   ]
  },
  {
   "cell_type": "code",
   "execution_count": 22,
   "id": "38016f71-e406-4224-bedb-518d90c8d189",
   "metadata": {},
   "outputs": [],
   "source": [
    "class mediaPlayer:\n",
    "    def play(self):\n",
    "        print(\"Playing media\")\n",
    "\n",
    "class Audioplayer(mediaPlayer):\n",
    "    def play(self):\n",
    "        print(\"Playing audio file\")\n",
    "\n",
    "class videoplayer(mediaPlayer):\n",
    "    def play(self):\n",
    "        print(\"Playing video file\")\n",
    "    "
   ]
  },
  {
   "cell_type": "code",
   "execution_count": 24,
   "id": "ae487367-e7cb-4365-94b3-e7c827f5289e",
   "metadata": {},
   "outputs": [],
   "source": [
    "media =mediaPlayer()\n",
    "audio_playing =Audioplayer()\n",
    "video_playing =videoplayer()"
   ]
  },
  {
   "cell_type": "code",
   "execution_count": 28,
   "id": "b49aae65-4587-440e-bac4-1ececbf5e3ed",
   "metadata": {},
   "outputs": [
    {
     "name": "stdout",
     "output_type": "stream",
     "text": [
      "Playing media\n",
      "Playing audio file\n",
      "Playing video file\n"
     ]
    }
   ],
   "source": [
    "media.play()\n",
    "audio_playing.play()\n",
    "video_playing.play()\n"
   ]
  },
  {
   "cell_type": "markdown",
   "id": "e49c1e24-a042-42b5-8b11-9a74953ec29e",
   "metadata": {},
   "source": [
    "##### practice question 1"
   ]
  },
  {
   "cell_type": "code",
   "execution_count": null,
   "id": "92ba2101-db33-41bb-90f4-3c398d171153",
   "metadata": {},
   "outputs": [],
   "source": [
    "Which type of polymorphism is achieved by function by function overloading in python?\n",
    "a) Compile-time polymorphism\n",
    "b) Run-time polymorphism\n",
    "c) staic polymorphism\n",
    "d) Dyanmic Polymorphism"
   ]
  },
  {
   "cell_type": "code",
   "execution_count": null,
   "id": "d3888841-59c1-4051-a6d3-b38c48bc6c66",
   "metadata": {},
   "outputs": [],
   "source": [
    "Ans:(a)"
   ]
  },
  {
   "cell_type": "markdown",
   "id": "73417170-8f73-41c1-b8eb-8a49144f363f",
   "metadata": {},
   "source": [
    "###### question 2"
   ]
  },
  {
   "cell_type": "code",
   "execution_count": null,
   "id": "9c6147ba-2679-4b3a-a100-a485334f22e7",
   "metadata": {},
   "outputs": [],
   "source": [
    "What is function overloading in Python?\n",
    "a) Defining multiple functions with different names\n",
    "b) Defining multiple functions with the same name but different parameters\n",
    "c) Defining a function inside another function\n",
    "d) Using a function to overfload other functions"
   ]
  },
  {
   "cell_type": "code",
   "execution_count": null,
   "id": "1fb6cfc9-3143-4178-9b55-178b75845952",
   "metadata": {},
   "outputs": [],
   "source": [
    "ans:(b)"
   ]
  }
 ],
 "metadata": {
  "kernelspec": {
   "display_name": "Python 3 (ipykernel)",
   "language": "python",
   "name": "python3"
  },
  "language_info": {
   "codemirror_mode": {
    "name": "ipython",
    "version": 3
   },
   "file_extension": ".py",
   "mimetype": "text/x-python",
   "name": "python",
   "nbconvert_exporter": "python",
   "pygments_lexer": "ipython3",
   "version": "3.12.7"
  }
 },
 "nbformat": 4,
 "nbformat_minor": 5
}
