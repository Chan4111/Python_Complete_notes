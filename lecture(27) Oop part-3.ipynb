{
 "cells": [
  {
   "cell_type": "markdown",
   "id": "0f148b1b-5457-40e7-b76a-37f19a86fefc",
   "metadata": {},
   "source": [
    "# Inheritance"
   ]
  },
  {
   "cell_type": "markdown",
   "id": "89354aee-0a2f-4fde-9b66-5d959e90ebcb",
   "metadata": {},
   "source": [
    "Inheritance OOP ka ek fundamental concept hai jo humein ek class ki properties aur\n",
    "methods ko doosri class me reuse karne ki facility deta hai.Isse code reusability aur \n",
    "readability improve hoti hai .Inheritance me,ek class(child class) doosri class (parent class)\n",
    "se inherit karti hai."
   ]
  },
  {
   "cell_type": "markdown",
   "id": "af124fc7-7b23-44d2-9630-0ef8c589d39a",
   "metadata": {},
   "source": [
    "##### Types of Inheritance"
   ]
  },
  {
   "cell_type": "raw",
   "id": "dabd2d15-f846-4c6c-b9e6-ed04a41aba11",
   "metadata": {},
   "source": [
    "Single Inheritance\n",
    "Multiple Inheritance\n",
    "Multilevel Inheritance\n",
    "Hierarchical inheritance\n",
    "Hybrid Inheritance"
   ]
  },
  {
   "cell_type": "markdown",
   "id": "55a81d2c-2e24-4664-aabf-749ae3b8e6aa",
   "metadata": {},
   "source": [
    "\n",
    "     [A]                [A]    [B]            [A]              [C]                [A]\n",
    "      |                   \\    /               |                /\\                 |\n",
    "     [B]                   \\  /                |               /  \\               [B]      [C]\n",
    "      |                     \\/                 |              /    \\                 \\     /                       \n",
    "     [C]                   [C]                [B]            [A]   [B]                 \\  /\n",
    "   multilevel           Multiple            Single           Herarchical                [D]\n",
    "  Inheritance         Inheritance         Inheritance        Inheritance            Hybrid Inheritance\n",
    "\n"
   ]
  },
  {
   "cell_type": "markdown",
   "id": "cc5fdda8-1942-4ad4-971c-6cfa6174b206",
   "metadata": {},
   "source": [
    "#### Single Inheritance"
   ]
  },
  {
   "cell_type": "code",
   "execution_count": 1,
   "id": "6f89cb94-0920-45d7-845e-4288235c5e5a",
   "metadata": {},
   "outputs": [],
   "source": [
    "class Parent:\n",
    "    def show(self):\n",
    "        print(\"This is parent class\")\n",
    "\n",
    "class child(Parent):\n",
    "    def display(self):\n",
    "        print(\"This is child class\")"
   ]
  },
  {
   "cell_type": "code",
   "execution_count": 2,
   "id": "5da797b0-bd79-43ab-8ba4-fd142fe19cab",
   "metadata": {},
   "outputs": [],
   "source": [
    "child =child()     # child class ke object bana ke parent class ke properties access kr skte hain."
   ]
  },
  {
   "cell_type": "code",
   "execution_count": 3,
   "id": "95117cb5-bd28-4667-91b8-d30b0da6574b",
   "metadata": {},
   "outputs": [
    {
     "name": "stdout",
     "output_type": "stream",
     "text": [
      "This is parent class\n"
     ]
    }
   ],
   "source": [
    "child.show()"
   ]
  },
  {
   "cell_type": "code",
   "execution_count": 4,
   "id": "3fcd1f0b-f5dd-4a4f-84b4-ab7754c37196",
   "metadata": {},
   "outputs": [
    {
     "name": "stdout",
     "output_type": "stream",
     "text": [
      "This is child class\n"
     ]
    }
   ],
   "source": [
    "child.display()"
   ]
  },
  {
   "cell_type": "markdown",
   "id": "679108c0-0557-461d-b293-681e79a39458",
   "metadata": {},
   "source": [
    "#### Multiple Inheritance"
   ]
  },
  {
   "cell_type": "code",
   "execution_count": 5,
   "id": "87c15294-47d0-4bf7-9e76-50576ebe7ffa",
   "metadata": {},
   "outputs": [],
   "source": [
    "class Mother:\n",
    "    def show_mother(self):\n",
    "        print(\"This is mother class:\")\n",
    "\n",
    "class Father:\n",
    "    def show_father(self):\n",
    "        print(\"This is father class:\")\n",
    "\n",
    "class child(Mother,Father):\n",
    "    def show_child(self):\n",
    "        print(\"i am child class:\")\n"
   ]
  },
  {
   "cell_type": "code",
   "execution_count": 6,
   "id": "936e4215-a765-4e31-83af-f49acff7c54f",
   "metadata": {},
   "outputs": [],
   "source": [
    "child= child()"
   ]
  },
  {
   "cell_type": "code",
   "execution_count": 8,
   "id": "9220d5a7-979e-4681-b1a4-7bf870019959",
   "metadata": {},
   "outputs": [
    {
     "name": "stdout",
     "output_type": "stream",
     "text": [
      "This is child class:\n",
      "This is father class:\n",
      "This is mother class:\n"
     ]
    }
   ],
   "source": [
    "child.show_child()\n",
    "child.show_father()\n",
    "child.show_mother()"
   ]
  },
  {
   "cell_type": "markdown",
   "id": "af3a77c0-04d3-43ba-b4d4-6b9ab803a7b1",
   "metadata": {},
   "source": [
    "#### Multi-level Inheritance"
   ]
  },
  {
   "cell_type": "code",
   "execution_count": 9,
   "id": "550a3a76-ebcd-4cb1-9f51-b26167cc5ef6",
   "metadata": {},
   "outputs": [],
   "source": [
    "class Grandparent:\n",
    "    def show_grandparent(self):\n",
    "        print(\"Grandparent\")\n",
    "\n",
    "class parent(Grandparent):\n",
    "    def show_parent(self):\n",
    "        print(\"parent\")\n",
    "\n",
    "class child(parent):\n",
    "    def show_child(self):\n",
    "        print(\"child\")"
   ]
  },
  {
   "cell_type": "code",
   "execution_count": 10,
   "id": "eb420af4-17da-40b8-9813-f0c16c996952",
   "metadata": {},
   "outputs": [],
   "source": [
    "child =child()"
   ]
  },
  {
   "cell_type": "code",
   "execution_count": 11,
   "id": "b9dc38b0-569e-43a8-bdff-3400d90201bf",
   "metadata": {},
   "outputs": [
    {
     "name": "stdout",
     "output_type": "stream",
     "text": [
      "Grandparent\n"
     ]
    }
   ],
   "source": [
    "child.show_grandparent()"
   ]
  },
  {
   "cell_type": "code",
   "execution_count": 12,
   "id": "2c1644be-e411-45d1-8942-477eaaaea034",
   "metadata": {},
   "outputs": [
    {
     "name": "stdout",
     "output_type": "stream",
     "text": [
      "child\n"
     ]
    }
   ],
   "source": [
    "child.show_child()"
   ]
  },
  {
   "cell_type": "code",
   "execution_count": 13,
   "id": "27a01440-21e1-4cb5-884a-5addc0601e23",
   "metadata": {},
   "outputs": [
    {
     "name": "stdout",
     "output_type": "stream",
     "text": [
      "parent\n"
     ]
    }
   ],
   "source": [
    "child.show_parent()"
   ]
  },
  {
   "cell_type": "markdown",
   "id": "28da4c78-65ab-4080-96e7-040b8450561f",
   "metadata": {},
   "source": [
    "#### Hierarichal  inheritance"
   ]
  },
  {
   "cell_type": "code",
   "execution_count": 15,
   "id": "fed927cc-db33-4e96-8eb2-a111c1b05d05",
   "metadata": {},
   "outputs": [],
   "source": [
    "class Parent:\n",
    "    def shown(self):\n",
    "        print(\"parent Class\")\n",
    "\n",
    "class child1(Parent):\n",
    "    def child1(self):\n",
    "        print(\"first child\")\n",
    "\n",
    "class child2(Parent):\n",
    "    def child2(self):\n",
    "        print(\"second child\")     "
   ]
  },
  {
   "cell_type": "code",
   "execution_count": 16,
   "id": "194985cf-d269-4274-8c61-dba1d08b5e80",
   "metadata": {},
   "outputs": [],
   "source": [
    "ch1 =child1()"
   ]
  },
  {
   "cell_type": "code",
   "execution_count": 19,
   "id": "9de1f502-3fe3-42ba-85c2-6d05eb5819e3",
   "metadata": {},
   "outputs": [
    {
     "name": "stdout",
     "output_type": "stream",
     "text": [
      "parent Class\n"
     ]
    }
   ],
   "source": [
    "ch1.shown()"
   ]
  },
  {
   "cell_type": "code",
   "execution_count": 20,
   "id": "8dbf431b-1921-4cf1-b010-d6b6473c111c",
   "metadata": {},
   "outputs": [],
   "source": [
    "ch2 =child2()"
   ]
  },
  {
   "cell_type": "code",
   "execution_count": 21,
   "id": "9f100c5a-5a60-4535-895f-19663c73289e",
   "metadata": {},
   "outputs": [
    {
     "name": "stdout",
     "output_type": "stream",
     "text": [
      "parent Class\n"
     ]
    }
   ],
   "source": [
    "ch2.shown()"
   ]
  }
 ],
 "metadata": {
  "kernelspec": {
   "display_name": "Python 3 (ipykernel)",
   "language": "python",
   "name": "python3"
  },
  "language_info": {
   "codemirror_mode": {
    "name": "ipython",
    "version": 3
   },
   "file_extension": ".py",
   "mimetype": "text/x-python",
   "name": "python",
   "nbconvert_exporter": "python",
   "pygments_lexer": "ipython3",
   "version": "3.12.7"
  }
 },
 "nbformat": 4,
 "nbformat_minor": 5
}
