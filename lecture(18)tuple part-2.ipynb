{
 "cells": [
  {
   "cell_type": "markdown",
   "id": "2d8ab9d0-81be-4802-85b9-3fb0171ab530",
   "metadata": {},
   "source": [
    "### Lecture 18"
   ]
  },
  {
   "cell_type": "markdown",
   "id": "f81520d8-18db-4e02-a4cc-7e59103b20e8",
   "metadata": {},
   "source": [
    "#### postive Indexing"
   ]
  },
  {
   "cell_type": "code",
   "execution_count": 1,
   "id": "d5affb2d-9fea-4881-bd18-dee04f5fc6e2",
   "metadata": {},
   "outputs": [
    {
     "name": "stdout",
     "output_type": "stream",
     "text": [
      "apple\n",
      "cherry\n"
     ]
    }
   ],
   "source": [
    "my_tuple =('apple','banana','cherry','date')\n",
    "print(my_tuple[0])\n",
    "print(my_tuple[2])"
   ]
  },
  {
   "cell_type": "markdown",
   "id": "5e079a4f-1937-4d3a-9b8f-e26ab3afc429",
   "metadata": {},
   "source": [
    "### negative Indexing"
   ]
  },
  {
   "cell_type": "code",
   "execution_count": 2,
   "id": "4a5f3146-7549-426c-9805-2e04ec68e087",
   "metadata": {},
   "outputs": [
    {
     "name": "stdout",
     "output_type": "stream",
     "text": [
      "date\n",
      "banana\n"
     ]
    }
   ],
   "source": [
    "my_tuple =('apple','banana','cherry','date')\n",
    "print(my_tuple[-1])\n",
    "print(my_tuple[-3])"
   ]
  },
  {
   "cell_type": "markdown",
   "id": "e897e53b-9266-470f-a0fb-172453f8eee2",
   "metadata": {},
   "source": [
    "### slicing in tuple"
   ]
  },
  {
   "cell_type": "code",
   "execution_count": 4,
   "id": "07a257d9-5940-4be0-b257-564557dc157f",
   "metadata": {},
   "outputs": [
    {
     "name": "stdout",
     "output_type": "stream",
     "text": [
      "('b', 'c', 'd')\n"
     ]
    }
   ],
   "source": [
    "my_tup = ('a','b','c','d','e')\n",
    "print(my_tup[1:4])"
   ]
  },
  {
   "cell_type": "code",
   "execution_count": 5,
   "id": "6894b47a-b84f-4453-8038-ddcd0ad791e2",
   "metadata": {},
   "outputs": [
    {
     "name": "stdout",
     "output_type": "stream",
     "text": [
      "('a', 'b', 'c', 'd')\n"
     ]
    }
   ],
   "source": [
    "my_tup = ('a','b','c','d','e')\n",
    "print(my_tup[:4])"
   ]
  },
  {
   "cell_type": "code",
   "execution_count": 6,
   "id": "fe84aaf3-6282-41c4-8b55-b0f1142d96b4",
   "metadata": {},
   "outputs": [
    {
     "name": "stdout",
     "output_type": "stream",
     "text": [
      "('a', 'b', 'c', 'd', 'e')\n"
     ]
    }
   ],
   "source": [
    "my_tup = ('a','b','c','d','e')\n",
    "print(my_tup[:])"
   ]
  },
  {
   "cell_type": "code",
   "execution_count": 7,
   "id": "b0aac95a-41ab-4951-966b-9f498b319d69",
   "metadata": {},
   "outputs": [
    {
     "name": "stdout",
     "output_type": "stream",
     "text": [
      "('a', 'c', 'e')\n"
     ]
    }
   ],
   "source": [
    "my_tup = ('a','b','c','d','e')\n",
    "print(my_tup[::2])"
   ]
  },
  {
   "cell_type": "markdown",
   "id": "ad6c99ad-1af9-466c-bd04-993148c276de",
   "metadata": {},
   "source": [
    "### slicing with negative indexing"
   ]
  },
  {
   "cell_type": "code",
   "execution_count": 11,
   "id": "ce9be60b-a13a-4642-b8cc-cb777fabd6ca",
   "metadata": {},
   "outputs": [
    {
     "name": "stdout",
     "output_type": "stream",
     "text": [
      "('apple',)\n",
      "('banana', 'cherry', 'date')\n"
     ]
    }
   ],
   "source": [
    "tup2 =('apple','banana','cherry','date')\n",
    "print(tup2[:-3])\n",
    "\n",
    "print(tup2[-3:])"
   ]
  },
  {
   "cell_type": "markdown",
   "id": "98d33d75-72d8-492e-a97d-cc74084413a4",
   "metadata": {},
   "source": [
    "### reversing the tuple"
   ]
  },
  {
   "cell_type": "code",
   "execution_count": 12,
   "id": "69c74ec3-fe79-42dc-bdfd-c2f304297453",
   "metadata": {},
   "outputs": [
    {
     "name": "stdout",
     "output_type": "stream",
     "text": [
      "(71, 122, 6454, 63, 31, 94, 72, 45, 87, 64, 21, 46)\n"
     ]
    }
   ],
   "source": [
    "a=(46,21,64,87,45,72,94,31,63,6454,122,71)\n",
    "print(a[::-1])"
   ]
  },
  {
   "cell_type": "code",
   "execution_count": 14,
   "id": "e8e644f0-c88f-4da9-943c-162bc8e31398",
   "metadata": {},
   "outputs": [
    {
     "name": "stdout",
     "output_type": "stream",
     "text": [
      "(1, 2, 3, 4, 5, 6, 7, 8)\n",
      "(4, 5, 6, 7, 8)\n",
      "(1, 2, 3, 4)\n",
      "(8, 7, 6, 5, 4, 3, 2, 1)\n"
     ]
    }
   ],
   "source": [
    "T =(1,2,3,4,5,6,7,8)\n",
    "print(T[::])\n",
    "print(T[3:])\n",
    "print(T[:4])\n",
    "print(T[::-1])"
   ]
  },
  {
   "cell_type": "markdown",
   "id": "55b6fcec-97f2-497f-be58-ed999221d1e3",
   "metadata": {},
   "source": [
    "### Duplicates are allow in tuple"
   ]
  },
  {
   "cell_type": "code",
   "execution_count": 15,
   "id": "a6d29eb9-938f-4ce3-b4c3-1f14f7cb25cb",
   "metadata": {},
   "outputs": [
    {
     "name": "stdout",
     "output_type": "stream",
     "text": [
      "(12, 45, 45, 12, 13, 16, 13, 16)\n"
     ]
    }
   ],
   "source": [
    "a =(12,45,45,12,13,16,13,16)\n",
    "print(a)"
   ]
  },
  {
   "cell_type": "markdown",
   "id": "0d2695cb-1bd8-46f9-97d6-ea081661faa9",
   "metadata": {},
   "source": [
    "## Method of tuples"
   ]
  },
  {
   "cell_type": "markdown",
   "id": "2855aeec-ab40-403b-8cf0-dfddaf193e0a",
   "metadata": {},
   "source": [
    "#### 1. Count method"
   ]
  },
  {
   "cell_type": "code",
   "execution_count": 16,
   "id": "067da61f-4d9e-4b69-a3d6-d98db984cb5d",
   "metadata": {},
   "outputs": [
    {
     "name": "stdout",
     "output_type": "stream",
     "text": [
      "2\n"
     ]
    }
   ],
   "source": [
    "a=(12,78,441,97,15,12,35,42)\n",
    "print(a.count(12))"
   ]
  },
  {
   "cell_type": "code",
   "execution_count": 19,
   "id": "0e68f1e5-9e28-4893-842f-1f8d724867b4",
   "metadata": {},
   "outputs": [
    {
     "name": "stdout",
     "output_type": "stream",
     "text": [
      "3\n",
      "2\n"
     ]
    }
   ],
   "source": [
    "b=('chandan','Gulshan','chandan','prashant','Gulshan','Gulshan')\n",
    "print(b.count('Gulshan'))\n",
    "print(b.count('chandan'))"
   ]
  },
  {
   "cell_type": "markdown",
   "id": "5e158b20-2f15-4f96-8d5a-d504bdae9e4b",
   "metadata": {},
   "source": [
    "#### 2.Index"
   ]
  },
  {
   "cell_type": "code",
   "execution_count": 21,
   "id": "b35ad4d8-9aca-4efc-8e61-e84449039ba4",
   "metadata": {},
   "outputs": [
    {
     "name": "stdout",
     "output_type": "stream",
     "text": [
      "2\n",
      "3\n"
     ]
    }
   ],
   "source": [
    "my_tuple =('apple','banana','cherry','date')\n",
    "print(my_tuple.index('cherry'))\n",
    "print(my_tuple.index('date'))"
   ]
  },
  {
   "cell_type": "code",
   "execution_count": 22,
   "id": "13cdbe94-d527-4324-b4c9-2221d1ac8437",
   "metadata": {},
   "outputs": [
    {
     "name": "stdout",
     "output_type": "stream",
     "text": [
      "0\n"
     ]
    }
   ],
   "source": [
    "a=(12,78,441,97,15,12,35,42)\n",
    "print(a.index(12))"
   ]
  },
  {
   "cell_type": "markdown",
   "id": "c407607c-8151-47ec-8aba-c9bd8a00f8f1",
   "metadata": {},
   "source": [
    "### ** Once a tuple is create is created,you cannot change its values. tuple are unchangeble , or immutableas it also\n",
    "### is called"
   ]
  },
  {
   "cell_type": "markdown",
   "id": "0c23b570-71fd-44e7-923f-f08332de1ffe",
   "metadata": {},
   "source": [
    "##### Converting tuple into list"
   ]
  },
  {
   "cell_type": "code",
   "execution_count": 24,
   "id": "73a79401-b7bd-4cff-a0b7-61aaf074ef25",
   "metadata": {},
   "outputs": [
    {
     "name": "stdout",
     "output_type": "stream",
     "text": [
      "('data', 'Python', 'chandan', 'thakur')\n",
      "<class 'tuple'>\n",
      "['data', 'Python', 'chandan', 'thakur']\n",
      "<class 'list'>\n"
     ]
    }
   ],
   "source": [
    "x = (\"data\",\"Python\",\"chandan\",\"thakur\")\n",
    "print(x)\n",
    "print(type(x))\n",
    "\n",
    "y =list(x)\n",
    "print(y)\n",
    "print(type(y))"
   ]
  },
  {
   "cell_type": "markdown",
   "id": "b3e475e4-9136-4910-8ed7-a56a758b78c7",
   "metadata": {},
   "source": [
    "#### Add items"
   ]
  },
  {
   "cell_type": "code",
   "execution_count": 28,
   "id": "2542e964-2b33-413d-a379-9077e2022d96",
   "metadata": {},
   "outputs": [
    {
     "name": "stdout",
     "output_type": "stream",
     "text": [
      "[25, 2, 45, 74, 65]\n",
      "<class 'list'>\n",
      "the new list is\n",
      "[25, 2, 45, 74, 65, 30]\n",
      "the new item added on tuple is\n",
      "(25, 2, 45, 74, 65, 30)\n"
     ]
    }
   ],
   "source": [
    "a=(25,2,45,74,65)\n",
    "y=list(a)\n",
    "print(y)\n",
    "print(type(y))\n",
    "\n",
    "y.append(30)\n",
    "print(\"the new list is\")\n",
    "print(y)\n",
    "\n",
    "x = tuple(y)\n",
    "print(\"the new item added on tuple is\")\n",
    "print(x)"
   ]
  },
  {
   "cell_type": "markdown",
   "id": "ab549c52-ef02-470c-8b23-1d3f0e7f00c8",
   "metadata": {},
   "source": [
    "###  Add tuple to a tuple"
   ]
  },
  {
   "cell_type": "code",
   "execution_count": 7,
   "id": "a5eebc83-3f58-4770-ba7c-9ce3eab21fab",
   "metadata": {},
   "outputs": [
    {
     "name": "stdout",
     "output_type": "stream",
     "text": [
      "('chandan', 'data', 'science', 'swati', 'chsmf', 'mohit')\n"
     ]
    }
   ],
   "source": [
    "tup1 = (\"chandan\",\"data\",\"science\",\"swati\")\n",
    "y =(\"chsmf\",\"mohit\")\n",
    "b=tup1+y\n",
    "print(b)\n"
   ]
  },
  {
   "cell_type": "markdown",
   "id": "95906d67-31a2-4131-b977-6ed3c6adcddb",
   "metadata": {},
   "source": [
    "#### Remove items"
   ]
  },
  {
   "cell_type": "code",
   "execution_count": 15,
   "id": "f8073bf4-5e09-4dbf-b445-60aafdb6516e",
   "metadata": {},
   "outputs": [
    {
     "name": "stdout",
     "output_type": "stream",
     "text": [
      "('apple', 'banana', 'cherry', 'date', 'fig')\n",
      "<class 'tuple'>\n",
      "['apple', 'banana', 'cherry', 'date', 'fig']\n",
      "<class 'list'>\n",
      "['apple', 'banana', 'date', 'fig']\n",
      "('apple', 'banana', 'date', 'fig')\n",
      "<class 'tuple'>\n"
     ]
    }
   ],
   "source": [
    "fruits =( \"apple\",\"banana\",\"cherry\",\"date\",\"fig\")\n",
    "print(fruits)\n",
    "print(type(fruits))\n",
    "\n",
    "fruit_list = list(fruits)\n",
    "print(fruit_list)\n",
    "print(type(fruit_list))\n",
    "\n",
    "fruit_list.remove(\"cherry\")\n",
    "print(fruit_list)\n",
    "\n",
    "new_fruit = tuple(fruit_list)\n",
    "print(new_fruit)\n",
    "print(type(new_fruit))"
   ]
  },
  {
   "cell_type": "markdown",
   "id": "f84b8fc2-9230-47a4-8328-06efa31d1b56",
   "metadata": {},
   "source": [
    "### changing the items in tuple"
   ]
  },
  {
   "cell_type": "code",
   "execution_count": 24,
   "id": "046c45de-0300-45a0-94e0-baa6167f2661",
   "metadata": {},
   "outputs": [
    {
     "name": "stdout",
     "output_type": "stream",
     "text": [
      "('apple', 'banana', 'cherry', 'data', 'fig')\n",
      "<class 'tuple'>\n",
      "['apple', 'banana', 'cherry', 'data', 'fig']\n",
      "<class 'list'>\n",
      "['apple', 'blueberry', 'cherry', 'data', 'fig']\n",
      "('apple', 'blueberry', 'cherry', 'data', 'fig')\n",
      "<class 'tuple'>\n"
     ]
    }
   ],
   "source": [
    "x =(\"apple\",\"banana\",\"cherry\",\"data\",\"fig\")\n",
    "print(x)\n",
    "print(type(x))\n",
    "\n",
    "y= list(x)\n",
    "print(y)\n",
    "print(type(y))\n",
    "\n",
    "y[1] = \"blueberry\"\n",
    "print(y)\n",
    "\n",
    "new_tuple =tuple(y)\n",
    "print(new_tuple)\n",
    "print(type(new_tuple))"
   ]
  },
  {
   "cell_type": "markdown",
   "id": "6d6c2ad5-5a62-455c-a28d-32cfd59536b9",
   "metadata": {},
   "source": [
    "### del Keyword"
   ]
  },
  {
   "cell_type": "code",
   "execution_count": 28,
   "id": "81ee33dd-fc93-40c2-a232-b5b1ba3ac23d",
   "metadata": {},
   "outputs": [
    {
     "name": "stdout",
     "output_type": "stream",
     "text": [
      "(2, 14, 35, 45, 85, 35)\n"
     ]
    },
    {
     "ename": "NameError",
     "evalue": "name 'x' is not defined",
     "output_type": "error",
     "traceback": [
      "\u001b[1;31m---------------------------------------------------------------------------\u001b[0m",
      "\u001b[1;31mNameError\u001b[0m                                 Traceback (most recent call last)",
      "Cell \u001b[1;32mIn[28], line 4\u001b[0m\n\u001b[0;32m      2\u001b[0m \u001b[38;5;28mprint\u001b[39m(x)\n\u001b[0;32m      3\u001b[0m \u001b[38;5;28;01mdel\u001b[39;00m x\n\u001b[1;32m----> 4\u001b[0m \u001b[38;5;28mprint\u001b[39m(x)\n",
      "\u001b[1;31mNameError\u001b[0m: name 'x' is not defined"
     ]
    }
   ],
   "source": [
    "x =(2,14,35,45,85,35)\n",
    "print(x)\n",
    "del x\n",
    "print(x)"
   ]
  },
  {
   "cell_type": "markdown",
   "id": "6b8adbed-a91f-4616-9556-eee8544fc23e",
   "metadata": {},
   "source": [
    "### Loop though a tuple"
   ]
  },
  {
   "cell_type": "code",
   "execution_count": 29,
   "id": "e20b10e5-5121-45ff-85ac-f28280039a2f",
   "metadata": {},
   "outputs": [
    {
     "name": "stdout",
     "output_type": "stream",
     "text": [
      "a\n",
      "b\n",
      "c\n"
     ]
    }
   ],
   "source": [
    "thistuple = (\"a\",\"b\",\"c\")\n",
    "for x in thistuple:\n",
    "    print(x)"
   ]
  },
  {
   "cell_type": "markdown",
   "id": "32daa783-2d27-43ed-be0c-b3e78df98e0f",
   "metadata": {},
   "source": [
    "### join two tuples"
   ]
  },
  {
   "cell_type": "code",
   "execution_count": 31,
   "id": "c618a321-179c-43c9-af48-b276394d42fb",
   "metadata": {},
   "outputs": [
    {
     "name": "stdout",
     "output_type": "stream",
     "text": [
      "('a', 'b', 'c', 1, 2, 3)\n"
     ]
    }
   ],
   "source": [
    "tuple1 =(\"a\",\"b\",\"c\")\n",
    "tuple2 =(1,2,3)\n",
    "\n",
    "tuple3 =tuple1+tuple2\n",
    "print(tuple3)"
   ]
  },
  {
   "cell_type": "markdown",
   "id": "3d65cd24-114d-4d98-b72c-5d8ddb1d8237",
   "metadata": {},
   "source": [
    "### Multiply tuples"
   ]
  },
  {
   "cell_type": "code",
   "execution_count": 32,
   "id": "1749cf9d-4aaa-4c0e-89c6-2acb8c74051c",
   "metadata": {},
   "outputs": [
    {
     "name": "stdout",
     "output_type": "stream",
     "text": [
      "('satyam', 'purushootam', 'Gulshan', 'Mohit', 'Ashish', 'satyam', 'purushootam', 'Gulshan', 'Mohit', 'Ashish')\n"
     ]
    }
   ],
   "source": [
    "dost = (\"satyam\",\"purushootam\",\"Gulshan\",\"Mohit\",\"Ashish\")\n",
    "loveu = dost*2\n",
    "print(loveu)"
   ]
  },
  {
   "cell_type": "code",
   "execution_count": 33,
   "id": "426288c3-bcd1-4f9b-a1f4-04b2f01c2c65",
   "metadata": {},
   "outputs": [
    {
     "name": "stdout",
     "output_type": "stream",
     "text": [
      "('satyam', 'purushootam', 'Gulshan', 'Mohit', 'Ashish', 'satyam', 'purushootam', 'Gulshan', 'Mohit', 'Ashish', 'satyam', 'purushootam', 'Gulshan', 'Mohit', 'Ashish')\n"
     ]
    }
   ],
   "source": [
    "dost = (\"satyam\",\"purushootam\",\"Gulshan\",\"Mohit\",\"Ashish\")\n",
    "loveu = dost*3\n",
    "print(loveu)"
   ]
  },
  {
   "cell_type": "markdown",
   "id": "63b2f7a1-db62-4950-8b62-e16c959018fe",
   "metadata": {},
   "source": [
    "### Practice Question"
   ]
  },
  {
   "cell_type": "code",
   "execution_count": 34,
   "id": "590fc108-2f8b-4228-a88a-fda21fa33580",
   "metadata": {},
   "outputs": [
    {
     "name": "stdout",
     "output_type": "stream",
     "text": [
      "<class 'list'>\n"
     ]
    }
   ],
   "source": [
    "t =(1,)\n",
    "l =list(t)\n",
    "print(type(l))"
   ]
  },
  {
   "cell_type": "code",
   "execution_count": 36,
   "id": "e3674891-2d4a-4664-ab62-1ea06ac3ca08",
   "metadata": {},
   "outputs": [
    {
     "name": "stdout",
     "output_type": "stream",
     "text": [
      "[1, 2, 3, 4]\n"
     ]
    }
   ],
   "source": [
    "y =(1,2,3)\n",
    "l=list(y)\n",
    "l.append(4)\n",
    "print(l)"
   ]
  },
  {
   "cell_type": "code",
   "execution_count": null,
   "id": "d0f87eba-a605-4173-8380-376aad18b516",
   "metadata": {},
   "outputs": [],
   "source": []
  }
 ],
 "metadata": {
  "kernelspec": {
   "display_name": "Python 3 (ipykernel)",
   "language": "python",
   "name": "python3"
  },
  "language_info": {
   "codemirror_mode": {
    "name": "ipython",
    "version": 3
   },
   "file_extension": ".py",
   "mimetype": "text/x-python",
   "name": "python",
   "nbconvert_exporter": "python",
   "pygments_lexer": "ipython3",
   "version": "3.12.7"
  }
 },
 "nbformat": 4,
 "nbformat_minor": 5
}
