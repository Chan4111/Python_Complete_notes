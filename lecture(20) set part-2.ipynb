{
 "cells": [
  {
   "cell_type": "markdown",
   "id": "454e76f2-3af2-4dd7-a6c9-6db385af5669",
   "metadata": {},
   "source": [
    "# sets part-2"
   ]
  },
  {
   "cell_type": "markdown",
   "id": "dd4179a7-0aa5-43ae-a707-84125378e0da",
   "metadata": {},
   "source": [
    "### True and 1 are considered as same value"
   ]
  },
  {
   "cell_type": "code",
   "execution_count": 3,
   "id": "96128fa8-0f6f-4c58-8e84-3c67b472f6c1",
   "metadata": {},
   "outputs": [
    {
     "name": "stdout",
     "output_type": "stream",
     "text": [
      "{True, 'animals', 12, 'ball', 14, 16, 56, 24, 31}\n"
     ]
    }
   ],
   "source": [
    "a= {'animals','ball',12,14,16,56,24,31,True}\n",
    "print(a)"
   ]
  },
  {
   "cell_type": "code",
   "execution_count": 4,
   "id": "408c4703-a226-42cf-b3c4-cd9f6e02b339",
   "metadata": {},
   "outputs": [
    {
     "name": "stdout",
     "output_type": "stream",
     "text": [
      "{1, 'animals', 12, 'ball', 14, 16, 56, 24, 31}\n"
     ]
    }
   ],
   "source": [
    "a= {'animals','ball',12,14,16,56,24,31,1,True}\n",
    "print(a)"
   ]
  },
  {
   "cell_type": "markdown",
   "id": "b03d47a4-dc11-4565-b644-dfc4a31d5234",
   "metadata": {},
   "source": [
    "### False and 0 are considered as same value"
   ]
  },
  {
   "cell_type": "code",
   "execution_count": 5,
   "id": "35042029-3a99-42ef-b772-e7f01e69158f",
   "metadata": {},
   "outputs": [
    {
     "name": "stdout",
     "output_type": "stream",
     "text": [
      "{False, 'animals', 12, 'ball', 14, 16, 56, 24, 31}\n"
     ]
    }
   ],
   "source": [
    "a= {'animals','ball',12,14,16,56,24,31,False}\n",
    "print(a)"
   ]
  },
  {
   "cell_type": "code",
   "execution_count": 7,
   "id": "889d7f52-9c02-4bc1-b3a2-5e548e00638a",
   "metadata": {},
   "outputs": [
    {
     "name": "stdout",
     "output_type": "stream",
     "text": [
      "{0, 'animals', 12, 'ball', 14, 16, 56, 24, 31}\n"
     ]
    }
   ],
   "source": [
    "a= {'animals','ball',12,14,16,56,24,31,0,False}\n",
    "print(a)"
   ]
  },
  {
   "cell_type": "markdown",
   "id": "70e2a532-4568-4ffd-92f2-a9d38cbe9589",
   "metadata": {},
   "source": [
    "## Nested is not a property of the set"
   ]
  },
  {
   "cell_type": "code",
   "execution_count": 8,
   "id": "f63bc268-3e1a-4d76-845a-daa4861de3a4",
   "metadata": {},
   "outputs": [
    {
     "ename": "TypeError",
     "evalue": "unhashable type: 'set'",
     "output_type": "error",
     "traceback": [
      "\u001b[1;31m---------------------------------------------------------------------------\u001b[0m",
      "\u001b[1;31mTypeError\u001b[0m                                 Traceback (most recent call last)",
      "Cell \u001b[1;32mIn[8], line 1\u001b[0m\n\u001b[1;32m----> 1\u001b[0m a \u001b[38;5;241m=\u001b[39m{\u001b[38;5;241m11\u001b[39m,\u001b[38;5;241m24\u001b[39m,{\u001b[38;5;241m45\u001b[39m,\u001b[38;5;241m11\u001b[39m,\u001b[38;5;241m13\u001b[39m},{\u001b[38;5;241m21\u001b[39m,\u001b[38;5;241m34\u001b[39m,\u001b[38;5;241m14\u001b[39m}}\n\u001b[0;32m      2\u001b[0m \u001b[38;5;28mprint\u001b[39m(a)\n",
      "\u001b[1;31mTypeError\u001b[0m: unhashable type: 'set'"
     ]
    }
   ],
   "source": [
    "a ={11,24,{45,11,13},{21,34,14}}\n",
    "print(a)"
   ]
  },
  {
   "cell_type": "markdown",
   "id": "3df4f1fd-17c8-4193-93b6-296ebdc06eba",
   "metadata": {},
   "source": [
    "## Check if items is present in the set or not"
   ]
  },
  {
   "cell_type": "code",
   "execution_count": 12,
   "id": "bfc28082-3fb2-42ed-815e-462aeafa0097",
   "metadata": {},
   "outputs": [
    {
     "name": "stdout",
     "output_type": "stream",
     "text": [
      "True\n",
      "True\n",
      "False\n"
     ]
    }
   ],
   "source": [
    "a= {\"chandan\",\"Gulshan\",\"Python\"}\n",
    "print(\"chandan\" in a)\n",
    "print(\"Gulshan\"in a)\n",
    "print(\"Rohan\"in a)"
   ]
  },
  {
   "cell_type": "code",
   "execution_count": 13,
   "id": "608332a5-aca7-4112-becc-698e548cbbf3",
   "metadata": {},
   "outputs": [
    {
     "name": "stdout",
     "output_type": "stream",
     "text": [
      "True\n"
     ]
    }
   ],
   "source": [
    "a= {\"chandan\",\"Gulshan\",\"Python\",2,5,4,16,35}\n",
    "print(16 in a)"
   ]
  },
  {
   "cell_type": "markdown",
   "id": "2aba7405-8523-41f2-9efa-d28fa280d68a",
   "metadata": {},
   "source": [
    "## Get the Length of the set"
   ]
  },
  {
   "cell_type": "code",
   "execution_count": 16,
   "id": "83fd3175-bb8f-42d3-99b4-75affddf1f5d",
   "metadata": {},
   "outputs": [
    {
     "name": "stdout",
     "output_type": "stream",
     "text": [
      "12\n"
     ]
    }
   ],
   "source": [
    "a= {\"chandan\",\"Gulshan\",\"Python\",35,87,14,12,54,25,41,241,654}\n",
    "print(len(a))"
   ]
  },
  {
   "cell_type": "markdown",
   "id": "74a36ae0-5bef-4719-9f03-453e16a5a284",
   "metadata": {},
   "source": [
    "## Add items"
   ]
  },
  {
   "cell_type": "markdown",
   "id": "e27307df-60cb-4717-8b17-bb9e728d02cb",
   "metadata": {},
   "source": [
    "##### Once a set is created, you cannot change thr items but you can add the new items"
   ]
  },
  {
   "cell_type": "code",
   "execution_count": 18,
   "id": "a202837b-bef0-4129-96f0-08d2f0de4db4",
   "metadata": {},
   "outputs": [
    {
     "name": "stdout",
     "output_type": "stream",
     "text": [
      "{'a3', 'a4', 'a1', 'd1'}\n"
     ]
    }
   ],
   "source": [
    "a={\"a1\",\"a3\",\"a4\"}\n",
    "a.add(\"d1\")\n",
    "print(a)"
   ]
  },
  {
   "cell_type": "markdown",
   "id": "24915240-50ec-423e-b80b-cad28f9bcce2",
   "metadata": {},
   "source": [
    "## Update method"
   ]
  },
  {
   "cell_type": "code",
   "execution_count": 19,
   "id": "71419a51-cad7-4027-9992-3cd6753b23c4",
   "metadata": {},
   "outputs": [
    {
     "name": "stdout",
     "output_type": "stream",
     "text": [
      "{'data', 70, 40, 10, 80, 'Python', 50, 20, 'code', 90, 60, 30}\n"
     ]
    }
   ],
   "source": [
    "x ={\"data\",\"Python\",\"code\"}\n",
    "y ={10,20,30,40,50,60,70,80,90}\n",
    "x.update(y)\n",
    "print(x)"
   ]
  },
  {
   "cell_type": "markdown",
   "id": "068c2e13-4e1b-4d1d-ae9d-2b3e7029ad3a",
   "metadata": {},
   "source": [
    "## Remove items form the set"
   ]
  },
  {
   "cell_type": "code",
   "execution_count": 21,
   "id": "c3bf2fba-9652-4928-9f94-266b1dc0b5cb",
   "metadata": {},
   "outputs": [
    {
     "name": "stdout",
     "output_type": "stream",
     "text": [
      "{'data', 5.5, 70, 36.5, 40, 10, 'science', 21, 54, 'code'}\n"
     ]
    }
   ],
   "source": [
    "n ={70,40,10,\"code\",\"data\",\"science\",5.5,21,54,36.5,21,56.1}\n",
    "n.remove(56.1)\n",
    "print(n)"
   ]
  },
  {
   "cell_type": "code",
   "execution_count": 23,
   "id": "36262a2b-d2c9-454d-9f38-8b14603df01a",
   "metadata": {},
   "outputs": [
    {
     "name": "stdout",
     "output_type": "stream",
     "text": [
      "{'data', 5.5, 70, 36.5, 40, 10, 'science', 21, 54, 56.1}\n"
     ]
    }
   ],
   "source": [
    "n ={70,40,10,\"code\",\"data\",\"science\",5.5,21,54,36.5,21,56.1}\n",
    "n.remove(\"code\")\n",
    "print(n)"
   ]
  },
  {
   "cell_type": "code",
   "execution_count": 25,
   "id": "d47e3646-a473-4ec3-95b7-9fad6b34255a",
   "metadata": {},
   "outputs": [
    {
     "name": "stdout",
     "output_type": "stream",
     "text": [
      "{'data', 5.5, 70, 36.5, 40, 10, 21, 54, 56.1, 'code'}\n"
     ]
    }
   ],
   "source": [
    "n ={70,40,10,\"code\",\"data\",\"science\",5.5,21,54,36.5,21,56.1}\n",
    "n.remove(\"science\")\n",
    "print(n)"
   ]
  },
  {
   "cell_type": "markdown",
   "id": "3703f4e3-03fc-4477-946b-5e14c826d08d",
   "metadata": {},
   "source": [
    "## Pop method"
   ]
  },
  {
   "cell_type": "code",
   "execution_count": 34,
   "id": "57e2af20-e6f4-48c5-9227-2f6159134468",
   "metadata": {},
   "outputs": [
    {
     "name": "stdout",
     "output_type": "stream",
     "text": [
      "{35, 6, 7, 8, 42, 74, 12, 16, 18, 19, 54}\n",
      "{6, 7, 8, 42, 74, 12, 16, 18, 19, 54}\n",
      "35\n"
     ]
    }
   ],
   "source": [
    "a= {12,35,42,16,74,18,19,8,54,7,6}\n",
    "print(a)                                       ## pop ka mtalb pure sets me se koi bhi value/random value ko remove kr deta hai.\n",
    "c=a.pop()\n",
    "print(a)\n",
    "print(c)"
   ]
  },
  {
   "cell_type": "code",
   "execution_count": 33,
   "id": "1e30c1c8-125e-4291-b062-69636362f7a8",
   "metadata": {},
   "outputs": [
    {
     "name": "stdout",
     "output_type": "stream",
     "text": [
      "{'chandan', 'prashant', 68, 7, 'Gulshan', 14, 15, 85, 54, 412}\n",
      "{'prashant', 68, 7, 'Gulshan', 14, 15, 85, 54, 412}\n",
      "chandan\n"
     ]
    }
   ],
   "source": [
    "x ={\"chandan\",\"Gulshan\",\"prashant\",54,68,7,15,412,85,14}\n",
    "print(x)\n",
    "y=x.pop()\n",
    "print(x)\n",
    "print(y)"
   ]
  },
  {
   "cell_type": "markdown",
   "id": "d85ec167-10a2-4fef-8849-be115ddfbc0b",
   "metadata": {},
   "source": [
    "## Clear method"
   ]
  },
  {
   "cell_type": "code",
   "execution_count": 42,
   "id": "502af498-fc85-416c-ab25-3c535e7fb569",
   "metadata": {},
   "outputs": [
    {
     "name": "stdout",
     "output_type": "stream",
     "text": [
      "{'chandan', 'kunal', 454, 'Gulshan', 12, 54, 24, 'code', 126}\n",
      "set()\n"
     ]
    }
   ],
   "source": [
    "x= {'code',\"chandan\",\"Gulshan\",\"kunal\",454,24,12,54,126}\n",
    "print(x)\n",
    "x.clear()\n",
    "print(x)"
   ]
  },
  {
   "cell_type": "markdown",
   "id": "6091c3b4-626d-42e2-b324-2eb2d2a3de36",
   "metadata": {},
   "source": [
    "## Practice question"
   ]
  },
  {
   "cell_type": "raw",
   "id": "253c3817-d1fc-4ad1-a0c3-3d9e264e4d65",
   "metadata": {},
   "source": [
    "Question 1.\n",
    "What method is used to add an element x to a set my_set in python?\n",
    "(a). my_set.insert(x)\n",
    "(b). my_set.append(X)\n",
    "(c). my_set.add(x)\n",
    "(d). my_set.update(x)"
   ]
  },
  {
   "cell_type": "raw",
   "id": "c584d2e9-3b12-4f43-beba-40eb88a3ce11",
   "metadata": {},
   "source": [
    "ans:(c)"
   ]
  },
  {
   "cell_type": "raw",
   "id": "6d6c560d-4105-4bac-9d9d-5b93d2d2e450",
   "metadata": {},
   "source": [
    "Question 2.\n",
    "which method can be used to add multiple elements at once to a set my_set?\n",
    "(a). my_set.add_multiple(elements)\n",
    "(b). my_set.append(elements)\n",
    "(c). my_set.add(elements)\n",
    "(d). my_set.update(elements)"
   ]
  },
  {
   "cell_type": "raw",
   "id": "23db17fc-807f-4ca1-8b44-99b98b3032d6",
   "metadata": {},
   "source": [
    "ans:(d)"
   ]
  }
 ],
 "metadata": {
  "kernelspec": {
   "display_name": "Python 3 (ipykernel)",
   "language": "python",
   "name": "python3"
  },
  "language_info": {
   "codemirror_mode": {
    "name": "ipython",
    "version": 3
   },
   "file_extension": ".py",
   "mimetype": "text/x-python",
   "name": "python",
   "nbconvert_exporter": "python",
   "pygments_lexer": "ipython3",
   "version": "3.12.7"
  }
 },
 "nbformat": 4,
 "nbformat_minor": 5
}
