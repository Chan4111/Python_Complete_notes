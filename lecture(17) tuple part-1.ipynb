{
 "cells": [
  {
   "cell_type": "markdown",
   "id": "9a4f4cce-2efb-42fc-8de4-76777a15d095",
   "metadata": {},
   "source": [
    "# What is Tuples?"
   ]
  },
  {
   "cell_type": "markdown",
   "id": "66acf58c-5ab1-4253-bafc-35dc7d79f37b",
   "metadata": {},
   "source": [
    "Tuples are used to store multiple items in single variable.\n",
    "Tuples is one of 4 buid-in data types in Python used to store collections of data, the other 3 \n",
    "are List,Set, and Dictionay, all with different qualities and usage.\n",
    "\n",
    "A tuple is a collection which is ordered and unchangeable. Tuples are like list,but wuth a big \n",
    "difference:they can not be changed once you create them. Think of tuples as containers where you\n",
    "put different things together, like numbers,words,or anything else . Once you put things into a tuple,you can't\n",
    "add more things out. it's like sealing a\n",
    "box-you can't change what's inside without opening the box again.\n",
    "\n",
    "it is writing in:-  ()"
   ]
  },
  {
   "cell_type": "markdown",
   "id": "fc83837f-61b4-4d5d-a21c-689ef5aef698",
   "metadata": {},
   "source": [
    "#### properties of tuples"
   ]
  },
  {
   "cell_type": "markdown",
   "id": "4d5b22c9-aedc-4140-b098-157b034bae9d",
   "metadata": {},
   "source": [
    "* ### ordered"
   ]
  },
  {
   "cell_type": "raw",
   "id": "97065465-180f-47f3-a3fe-aa4db797c33a",
   "metadata": {},
   "source": [
    "Tuples maintain the order of elements as they are inserted. This means you can access elements\n",
    "by their index,similar to list. "
   ]
  },
  {
   "cell_type": "markdown",
   "id": "1e3b0bd4-6a8e-4993-9b2a-88a64dd056f4",
   "metadata": {},
   "source": [
    "* #### immutable"
   ]
  },
  {
   "cell_type": "raw",
   "id": "e417464b-ea3f-41fe-a2ba-a16e517c5c60",
   "metadata": {},
   "source": [
    "Tuples are immutable ,meaning once they are created , their elements cannot be changed or modified.\n",
    "you cannot add,remove,or replace items in a tuple after it has been defined."
   ]
  },
  {
   "cell_type": "markdown",
   "id": "93a7d3e1-983d-4404-bb59-324f1e52ae76",
   "metadata": {},
   "source": [
    "* #### Heterogeneous data Type"
   ]
  },
  {
   "cell_type": "raw",
   "id": "60f1b06f-cdb1-4042-ae7e-edd622d7c0bb",
   "metadata": {},
   "source": [
    "Tuples can contain elements of different data types, such as integers,floats,strings , or\n",
    "even other tuples."
   ]
  },
  {
   "cell_type": "markdown",
   "id": "e3a7dc7a-f4e2-4019-9ada-9de7bb106782",
   "metadata": {},
   "source": [
    "* #### Indexed"
   ]
  },
  {
   "cell_type": "raw",
   "id": "62316be9-350b-4eff-bd0f-9e13d4877d77",
   "metadata": {},
   "source": [
    "Elements in tuple are accessed using zero-based indexing. for example,the first elements using index 0,\n",
    "the second using index 1, and so on.\n"
   ]
  },
  {
   "cell_type": "markdown",
   "id": "b10a489b-fc77-429a-a698-92f6fd7fcb49",
   "metadata": {},
   "source": [
    "* #### Iterable"
   ]
  },
  {
   "cell_type": "raw",
   "id": "70ca72e0-71fe-482e-ae08-d95386577a86",
   "metadata": {},
   "source": [
    "Tuples are iterable, which means you can loops over the elements of a tuple using a for loop or other iterable methods."
   ]
  },
  {
   "cell_type": "markdown",
   "id": "8981632a-85bb-45c3-b2b1-ca8da8a0b4fc",
   "metadata": {},
   "source": [
    "* #### Fixed Size"
   ]
  },
  {
   "cell_type": "raw",
   "id": "1ea4226b-37be-4acb-9d38-cf28df4c04a6",
   "metadata": {},
   "source": [
    "The size of tuple is fixed upon creation and cannot be changed. you cannot add,delete,or\n",
    "modify elements within a tuple."
   ]
  },
  {
   "cell_type": "markdown",
   "id": "d41e5f77-6308-4009-aa02-2ed80d810bc9",
   "metadata": {},
   "source": [
    " ### Code dekhte hai"
   ]
  },
  {
   "cell_type": "markdown",
   "id": "131345bf-7bec-47d6-ae7b-f07ca2470ac7",
   "metadata": {},
   "source": [
    "## creating Tuples"
   ]
  },
  {
   "cell_type": "code",
   "execution_count": null,
   "id": "639938aa-2f5f-4908-ac8f-1dbe15fe81fc",
   "metadata": {},
   "outputs": [],
   "source": [
    "a=( 10,20,30)\n",
    "print(a)\n",
    "print(type(a))"
   ]
  },
  {
   "cell_type": "markdown",
   "id": "b094e104-b4c6-4d84-841b-d5a0f0372f6e",
   "metadata": {},
   "source": [
    "### Empty tuple"
   ]
  },
  {
   "cell_type": "code",
   "execution_count": null,
   "id": "d59320c8-bade-4469-8b68-08cdefe8dc6e",
   "metadata": {},
   "outputs": [],
   "source": [
    "tup =()\n",
    "print(tup)\n",
    "print(type(tup))"
   ]
  },
  {
   "cell_type": "markdown",
   "id": "824250e3-712a-4865-b05b-916a8a4b5b21",
   "metadata": {},
   "source": [
    "### Single element"
   ]
  },
  {
   "cell_type": "code",
   "execution_count": null,
   "id": "6e6eadc2-0fe3-4721-a591-f3411c3e3298",
   "metadata": {},
   "outputs": [],
   "source": [
    "b =(5)\n",
    "print(b)\n",
    "print(type(b))    ## kabhi bhi single number () me rahega to wo kewal return type int hi dega"
   ]
  },
  {
   "cell_type": "code",
   "execution_count": null,
   "id": "baa82f33-07a1-4ddd-8993-0554732a88cd",
   "metadata": {},
   "outputs": [],
   "source": [
    "b =(5,)\n",
    "print(b)\n",
    "print(type(b))"
   ]
  },
  {
   "cell_type": "markdown",
   "id": "781eef44-4c6d-43fc-b69f-00def832b89b",
   "metadata": {},
   "source": [
    "### A tuple with mixed data type"
   ]
  },
  {
   "cell_type": "code",
   "execution_count": null,
   "id": "eeeb5b65-a9fe-43aa-a7ac-f997da93bbe6",
   "metadata": {},
   "outputs": [],
   "source": [
    "b = (1,2.3,\"chandan\",\"Gulshan\",True)\n",
    "print(b)\n",
    "print(type(b))"
   ]
  },
  {
   "cell_type": "markdown",
   "id": "9bf97b9a-a1e4-4a29-8f0a-538d8bc14b66",
   "metadata": {},
   "source": [
    "### nested tuples"
   ]
  },
  {
   "cell_type": "code",
   "execution_count": null,
   "id": "55fc7517-0e29-4b81-9a64-93a7b4a1a137",
   "metadata": {},
   "outputs": [],
   "source": [
    "a = (\"mouse\", 2.3, (10,20,30))\n",
    "print(a)\n",
    "print(type(a))"
   ]
  },
  {
   "cell_type": "code",
   "execution_count": null,
   "id": "97291bcb-5b5b-4222-a582-201d0d5a0caf",
   "metadata": {},
   "outputs": [],
   "source": [
    "num=([12,14,16],[20,30],[14,78,96])\n",
    "print(num)\n",
    "print(type(num))"
   ]
  },
  {
   "cell_type": "markdown",
   "id": "1842213e-2011-4605-8f87-20eb04ef917c",
   "metadata": {},
   "source": [
    "### Tuple Constructor"
   ]
  },
  {
   "cell_type": "code",
   "execution_count": null,
   "id": "8e93e071-bbd3-4846-87f9-c1bb3f6241ef",
   "metadata": {},
   "outputs": [],
   "source": [
    "empty = tuple()\n",
    "print(empty)\n",
    "print(type(empty))"
   ]
  },
  {
   "cell_type": "markdown",
   "id": "35b8675e-3ecd-45a8-b4b2-1b8b6629e404",
   "metadata": {},
   "source": [
    "### Converting list into tuple"
   ]
  },
  {
   "cell_type": "code",
   "execution_count": null,
   "id": "99c44df2-e409-4d6f-80e6-28cc864d5782",
   "metadata": {},
   "outputs": [],
   "source": [
    "list = [1,2,3,4]\n",
    "print(list)\n",
    "print(type(list))\n",
    "number = tuple(list)\n",
    "print(number)\n",
    "print(type(number))"
   ]
  },
  {
   "cell_type": "markdown",
   "id": "92e07850-c7b4-4fe5-9167-4c6562f9372f",
   "metadata": {},
   "source": [
    "### Converting string into a tuple"
   ]
  },
  {
   "cell_type": "code",
   "execution_count": null,
   "id": "7522e2fb-dbff-45c1-a891-4f1fcb5fbc2d",
   "metadata": {},
   "outputs": [],
   "source": [
    "string_example = \"hello\"\n",
    "print(string_example)\n",
    "print(type(string_example))\n",
    "tuple1 = tuple(string_example)\n",
    "print(tuple1)                                 ## code is correct \n",
    "print(type(tuple1))"
   ]
  },
  {
   "cell_type": "markdown",
   "id": "e81633e5-3ce9-4ba6-ad9d-e4615899a1e9",
   "metadata": {},
   "source": [
    "### Converting dictionary into a tuple"
   ]
  },
  {
   "cell_type": "code",
   "execution_count": null,
   "id": "88f95fcd-3494-4a09-94fb-add365a1b6d9",
   "metadata": {},
   "outputs": [],
   "source": [
    "dict_example = {'a':1,'b':2,'c':3}\n",
    "print(dict_example)                     ### code is correct\n",
    "print(type(dict_exmple))\n",
    "\n",
    "tup = tuple(dict_example)\n",
    "print(tup)\n",
    "print(type(tup))"
   ]
  },
  {
   "cell_type": "markdown",
   "id": "eb82ecdb-7fea-452a-84e1-7235ebf40aa7",
   "metadata": {},
   "source": [
    "### Converting  a set into a tuple"
   ]
  },
  {
   "cell_type": "code",
   "execution_count": null,
   "id": "b7acc62c-d53b-407f-80fb-87140f0f322e",
   "metadata": {},
   "outputs": [],
   "source": [
    "set_exmple ={1,2,3,4}\n",
    "print(set_example)\n",
    "print(type(set_exmple))"
   ]
  },
  {
   "cell_type": "code",
   "execution_count": null,
   "id": "5b255ad6-4bae-452b-b512-ab3f2ac578e5",
   "metadata": {},
   "outputs": [],
   "source": []
  }
 ],
 "metadata": {
  "kernelspec": {
   "display_name": "Python 3 (ipykernel)",
   "language": "python",
   "name": "python3"
  },
  "language_info": {
   "codemirror_mode": {
    "name": "ipython",
    "version": 3
   },
   "file_extension": ".py",
   "mimetype": "text/x-python",
   "name": "python",
   "nbconvert_exporter": "python",
   "pygments_lexer": "ipython3",
   "version": "3.12.7"
  }
 },
 "nbformat": 4,
 "nbformat_minor": 5
}
