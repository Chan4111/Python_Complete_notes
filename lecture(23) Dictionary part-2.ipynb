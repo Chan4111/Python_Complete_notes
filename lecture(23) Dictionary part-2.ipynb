{
 "cells": [
  {
   "cell_type": "markdown",
   "id": "503b18d6-4644-4923-b935-f73a701a6a95",
   "metadata": {},
   "source": [
    "## Dictonary Part 2"
   ]
  },
  {
   "cell_type": "markdown",
   "id": "3ebeed11-6a4a-49f9-bd8b-c388cb299752",
   "metadata": {},
   "source": [
    "#### Membership testing"
   ]
  },
  {
   "cell_type": "code",
   "execution_count": 5,
   "id": "c66e6435-0c12-47e5-b207-ece2d7ddd768",
   "metadata": {},
   "outputs": [],
   "source": [
    "person ={\n",
    "    'name':'chandan',\n",
    "    'age':21,\n",
    "    'city':'lucknow'\n",
    "}"
   ]
  },
  {
   "cell_type": "code",
   "execution_count": 6,
   "id": "539cd945-210e-4f97-8be5-fd1128f851db",
   "metadata": {},
   "outputs": [
    {
     "name": "stdout",
     "output_type": "stream",
     "text": [
      "True\n"
     ]
    }
   ],
   "source": [
    "print('name' in person)"
   ]
  },
  {
   "cell_type": "code",
   "execution_count": 7,
   "id": "fb32d044-6ea2-42fc-8700-e109ad6908a8",
   "metadata": {},
   "outputs": [
    {
     "name": "stdout",
     "output_type": "stream",
     "text": [
      "True\n"
     ]
    }
   ],
   "source": [
    "print('age' in person)"
   ]
  },
  {
   "cell_type": "code",
   "execution_count": 8,
   "id": "9adda65d-0639-496b-b994-133797d11add",
   "metadata": {},
   "outputs": [
    {
     "name": "stdout",
     "output_type": "stream",
     "text": [
      "False\n"
     ]
    }
   ],
   "source": [
    "print('email' in person)"
   ]
  },
  {
   "cell_type": "code",
   "execution_count": 9,
   "id": "b4e96c56-fac8-4642-a3d5-cf50402c8869",
   "metadata": {},
   "outputs": [
    {
     "name": "stdout",
     "output_type": "stream",
     "text": [
      "False\n"
     ]
    }
   ],
   "source": [
    "print('state' in person)"
   ]
  },
  {
   "cell_type": "markdown",
   "id": "6337b468-9b7e-4b05-87d0-d6508a72fb6f",
   "metadata": {},
   "source": [
    "#### Nested Dictionaries"
   ]
  },
  {
   "cell_type": "code",
   "execution_count": 13,
   "id": "4db9350a-9303-47e1-8fe9-f88d483e5d2c",
   "metadata": {},
   "outputs": [],
   "source": [
    "employees ={\n",
    "    'emp1':{\n",
    "        'name':\"chandan\",\n",
    "        'age':21,\n",
    "        'city':\"lucknow\"\n",
    "    },\n",
    "    'emp2':{\n",
    "        'name':\"Gulshan\",\n",
    "        'age':20,\n",
    "        'city':\"lucknow\"\n",
    "    },\n",
    "    'emp3':{\n",
    "        'name':\"Kunal\",\n",
    "        'age':23,\n",
    "        'city':\"Patna\"\n",
    "    }\n",
    "    \n",
    "}"
   ]
  },
  {
   "cell_type": "code",
   "execution_count": 14,
   "id": "0b8095d0-0b25-47d5-beaf-3a7727a2d1b2",
   "metadata": {},
   "outputs": [
    {
     "name": "stdout",
     "output_type": "stream",
     "text": [
      "{'emp1': {'name': 'chandan', 'age': 21, 'city': 'lucknow'}, 'emp2': {'name': 'Gulshan', 'age': 20, 'city': 'lucknow'}, 'emp3': {'name': 'Kunal', 'age': 23, 'city': 'Patna'}}\n"
     ]
    }
   ],
   "source": [
    "print(employees)"
   ]
  },
  {
   "cell_type": "code",
   "execution_count": 16,
   "id": "740a5a09-1429-4b02-9405-cda1348f094c",
   "metadata": {},
   "outputs": [
    {
     "name": "stdout",
     "output_type": "stream",
     "text": [
      "{'name': 'Kunal', 'age': 23, 'city': 'Patna'}\n"
     ]
    }
   ],
   "source": [
    "print(employees['emp3'])"
   ]
  },
  {
   "cell_type": "code",
   "execution_count": 17,
   "id": "81e42060-266c-43aa-a727-8cf6012d7c59",
   "metadata": {},
   "outputs": [
    {
     "name": "stdout",
     "output_type": "stream",
     "text": [
      "{'name': 'Gulshan', 'age': 20, 'city': 'lucknow'}\n"
     ]
    }
   ],
   "source": [
    "print(employees['emp2'])"
   ]
  },
  {
   "cell_type": "code",
   "execution_count": 21,
   "id": "6ea78e62-9f6a-45d3-8a6d-b5df25c07bf7",
   "metadata": {},
   "outputs": [
    {
     "name": "stdout",
     "output_type": "stream",
     "text": [
      "Kunal\n"
     ]
    }
   ],
   "source": [
    "print(employees['emp3']['name'])"
   ]
  },
  {
   "cell_type": "code",
   "execution_count": 22,
   "id": "cd2b1518-ae90-4faa-a658-57d7be23848f",
   "metadata": {},
   "outputs": [
    {
     "name": "stdout",
     "output_type": "stream",
     "text": [
      "23\n"
     ]
    }
   ],
   "source": [
    "print(employees['emp3']['age'])"
   ]
  },
  {
   "cell_type": "code",
   "execution_count": 23,
   "id": "29d541fa-0b9d-46bb-99ca-ae23352bbf35",
   "metadata": {},
   "outputs": [
    {
     "name": "stdout",
     "output_type": "stream",
     "text": [
      "chandan\n"
     ]
    }
   ],
   "source": [
    "print(employees['emp1']['name'])"
   ]
  },
  {
   "cell_type": "code",
   "execution_count": 24,
   "id": "26b03096-f75e-4a40-a3a3-24c2d9e3484c",
   "metadata": {},
   "outputs": [
    {
     "name": "stdout",
     "output_type": "stream",
     "text": [
      "lucknow\n"
     ]
    }
   ],
   "source": [
    "print(employees['emp1']['city'])"
   ]
  },
  {
   "cell_type": "markdown",
   "id": "5b35631c-8007-4e06-beb0-60f066e62e34",
   "metadata": {},
   "source": [
    "#### practice question 1"
   ]
  },
  {
   "cell_type": "raw",
   "id": "788fccf2-628a-47d2-b219-aef1c746b03c",
   "metadata": {},
   "source": [
    "Create a dictionary book_ratings with the following initial dste:\n",
    "'Python progarmming':4.5\n",
    "'Data Science Handbook':4.8\n",
    "'Machine learning Basic':4.2\n",
    "\n",
    "Check if 'Python progarmming' is in book_ratings.\n",
    "print\"found\" if exists, otherwise print\"Not found\".\n",
    "\n",
    "Use a method to get all keys from book_rating and \n",
    "store them in a list titles.\n",
    "print the list titles."
   ]
  },
  {
   "cell_type": "code",
   "execution_count": 29,
   "id": "c50870f5-b5c4-4d55-92b7-4fcfcf7c1b62",
   "metadata": {},
   "outputs": [
    {
     "name": "stdout",
     "output_type": "stream",
     "text": [
      "found\n",
      "['Python progarmming', 'Data Science Handbook', 'Machine learning Basic']\n"
     ]
    }
   ],
   "source": [
    "book_rating ={\n",
    "    'Python progarmming':4.5,\n",
    "    'Data Science Handbook':4.8,\n",
    "    'Machine learning Basic':4.2\n",
    "}\n",
    "if 'Python progarmming' in book_rating:\n",
    "    print(\"found\")\n",
    "else:\n",
    "    print(\"Note found\")\n",
    "\n",
    "titles=list(book_rating.keys())\n",
    "print(titles)"
   ]
  },
  {
   "cell_type": "markdown",
   "id": "6a64024a-4de6-4b8a-9774-d68ca16d71bf",
   "metadata": {},
   "source": [
    "#### Practice question 2"
   ]
  },
  {
   "cell_type": "raw",
   "id": "a87572e9-0099-4589-82a3-5c0333ced997",
   "metadata": {},
   "source": [
    "create a dictionary fruit_stock with the following items:\n",
    "'apple':10,\n",
    "'banana':15,\n",
    "'orange':8,\n",
    "'grape':20\n",
    "Print each fruits along with its stock count\n",
    "in the format \"Fruit:stock\" using a loop.\n",
    "\n",
    "OUTPUT:\n",
    "Fruit: apple,Stock:10\n",
    "Fruit: banana,Stock:15\n",
    "Fruit: orange,Stock:8\n",
    "Fruit: grape,Stock:20"
   ]
  },
  {
   "cell_type": "code",
   "execution_count": 32,
   "id": "8c233472-7088-4653-894f-56e630b37b06",
   "metadata": {},
   "outputs": [
    {
     "name": "stdout",
     "output_type": "stream",
     "text": [
      "Fruit apple Stock 10\n",
      "Fruit banana Stock 15\n",
      "Fruit orange Stock 8\n",
      "Fruit grape Stock 20\n"
     ]
    }
   ],
   "source": [
    "fruit_stock = {\n",
    "    'apple':10,\n",
    "    'banana':15,\n",
    "    'orange':8,\n",
    "    'grape':20\n",
    "}\n",
    "for fruit in fruit_stock:\n",
    "    print(\"Fruit\", fruit,\"Stock\",fruit_stock[fruit])"
   ]
  },
  {
   "cell_type": "markdown",
   "id": "0a132ae0-0bde-4cf0-b0ab-4184545f5546",
   "metadata": {},
   "source": [
    "## properties of Dictionary"
   ]
  },
  {
   "cell_type": "markdown",
   "id": "b11e36a2-97b6-4cb2-ab88-4c6af0a5a4b2",
   "metadata": {},
   "source": [
    "##### Dictionary Length"
   ]
  },
  {
   "cell_type": "code",
   "execution_count": 34,
   "id": "6a593264-1f28-416b-a12c-aa1c6bfb1a79",
   "metadata": {},
   "outputs": [],
   "source": [
    "person ={\n",
    "    'name':'chandan',\n",
    "    'age':21,\n",
    "    'city':'lucknow'\n",
    "}"
   ]
  },
  {
   "cell_type": "code",
   "execution_count": 35,
   "id": "63adc648-6608-410e-a70d-ddf27e785781",
   "metadata": {},
   "outputs": [
    {
     "name": "stdout",
     "output_type": "stream",
     "text": [
      "3\n"
     ]
    }
   ],
   "source": [
    "print(len(person))"
   ]
  },
  {
   "cell_type": "code",
   "execution_count": 37,
   "id": "25ce712e-ac10-4118-a6ca-7bf43c887c1a",
   "metadata": {},
   "outputs": [],
   "source": [
    "employees ={\n",
    "    'emp1':{\n",
    "        'name':\"chandan\",\n",
    "        'age':21,\n",
    "        'city':\"lucknow\"\n",
    "    },\n",
    "    'emp2':{\n",
    "        'name':\"Gulshan\",\n",
    "        'age':20,\n",
    "        'city':\"lucknow\"\n",
    "    },\n",
    "    'emp3':{\n",
    "        'name':\"Kunal\",\n",
    "        'age':23,\n",
    "        'city':\"Patna\"\n",
    "    }\n",
    "    \n",
    "}"
   ]
  },
  {
   "cell_type": "code",
   "execution_count": 38,
   "id": "5e2372d9-6692-4039-985d-375e42f2f6cb",
   "metadata": {},
   "outputs": [
    {
     "name": "stdout",
     "output_type": "stream",
     "text": [
      "3\n"
     ]
    }
   ],
   "source": [
    "print(len(employees))"
   ]
  },
  {
   "cell_type": "markdown",
   "id": "ef0af9f1-c493-4523-95fd-673b70bb5b5b",
   "metadata": {},
   "source": [
    "#### Get Keys"
   ]
  },
  {
   "cell_type": "code",
   "execution_count": 39,
   "id": "8bc15e3b-b276-4ff1-8517-97de9bc7dcd1",
   "metadata": {},
   "outputs": [],
   "source": [
    "a={\n",
    "    'name':'satyam',    # kewal mujhe dictionary me se key find krna ho to get keys ka use krte hai.\n",
    "    'age':22,\n",
    "    'country':'India'\n",
    "}"
   ]
  },
  {
   "cell_type": "code",
   "execution_count": 40,
   "id": "be89c713-94c3-4c65-888c-ade3ec1e93b5",
   "metadata": {},
   "outputs": [
    {
     "name": "stdout",
     "output_type": "stream",
     "text": [
      "dict_keys(['name', 'age', 'country'])\n"
     ]
    }
   ],
   "source": [
    "x=a.keys()\n",
    "print(x)"
   ]
  },
  {
   "cell_type": "markdown",
   "id": "13496668-c6a7-4b8f-adce-d9aae1b25ffe",
   "metadata": {},
   "source": [
    "#### Get Values"
   ]
  },
  {
   "cell_type": "code",
   "execution_count": 41,
   "id": "51e08d19-d437-4bdd-b19d-369e5453f05a",
   "metadata": {},
   "outputs": [],
   "source": [
    "a={\n",
    "    'name':'satyam',    # kewal mujhe dictionary me se values find krna ho to get values ka use krte hai.\n",
    "    'age':22,\n",
    "    'country':'India'\n",
    "}"
   ]
  },
  {
   "cell_type": "code",
   "execution_count": 42,
   "id": "44b7ac50-c41b-4e11-914f-20a7acb04dae",
   "metadata": {},
   "outputs": [
    {
     "name": "stdout",
     "output_type": "stream",
     "text": [
      "dict_values(['satyam', 22, 'India'])\n"
     ]
    }
   ],
   "source": [
    "y=a.values()\n",
    "print(y)"
   ]
  },
  {
   "cell_type": "markdown",
   "id": "b083a516-175b-4e04-b4f0-d2aaac58efa7",
   "metadata": {},
   "source": [
    "### Changed Value once dictionary is created"
   ]
  },
  {
   "cell_type": "code",
   "execution_count": 48,
   "id": "927c0036-aa9c-4810-944b-b7cc98f7c2ab",
   "metadata": {},
   "outputs": [
    {
     "name": "stdout",
     "output_type": "stream",
     "text": [
      "{'emp1': {'name': 'chandan', 'age': 21, 'city': 'lucknow'}, 'emp2': {'name': 'Gulshan', 'age': 20, 'city': 'lucknow'}, 'emp3': {'name': 'Kunal', 'age': 23, 'city': 'Patna'}}\n"
     ]
    }
   ],
   "source": [
    "employees ={\n",
    "    'emp1':{\n",
    "        'name':\"chandan\",\n",
    "        'age':21,\n",
    "        'city':\"lucknow\"\n",
    "    },                               #hm chahte hai ki itna bara deta me galti se 'emp2', ke age hona chahiye tha 22 lekin 20 hai abhi \n",
    "    'emp2':{                                   # to 'age ' 20 ke jagh pr 22 update krna hai.\n",
    "        'name':\"Gulshan\",\n",
    "        'age':20,\n",
    "        'city':\"lucknow\"\n",
    "    },\n",
    "    'emp3':{\n",
    "        'name':\"Kunal\",\n",
    "        'age':23,\n",
    "        'city':\"Patna\"\n",
    "    }\n",
    "    \n",
    "}\n",
    "print(employees)"
   ]
  },
  {
   "cell_type": "code",
   "execution_count": 47,
   "id": "d5945700-5a2a-4ab5-a847-bb6be2621c5d",
   "metadata": {},
   "outputs": [
    {
     "name": "stdout",
     "output_type": "stream",
     "text": [
      "{'emp1': {'name': 'chandan', 'age': 21, 'city': 'lucknow'}, 'emp2': {'name': 'Gulshan', 'age': 22, 'city': 'lucknow'}, 'emp3': {'name': 'Kunal', 'age': 23, 'city': 'Patna'}}\n"
     ]
    }
   ],
   "source": [
    "\n",
    "employees['emp2']['age']=22\n",
    "print(employees)"
   ]
  },
  {
   "cell_type": "code",
   "execution_count": 49,
   "id": "9b8e62f0-ed7f-47f4-97bd-9bb45acd6387",
   "metadata": {},
   "outputs": [],
   "source": [
    "a={\n",
    "    'name':'satyam',    \n",
    "    'age':22,\n",
    "    'country':'India'\n",
    "}"
   ]
  },
  {
   "cell_type": "code",
   "execution_count": 51,
   "id": "d428d2d5-65f7-4b66-acb1-c7ff207dc2f9",
   "metadata": {},
   "outputs": [
    {
     "name": "stdout",
     "output_type": "stream",
     "text": [
      "{'name': 'satyam', 'age': 22, 'country': 'America'}\n"
     ]
    }
   ],
   "source": [
    "a['country']=\"America\"\n",
    "print(a)"
   ]
  },
  {
   "cell_type": "markdown",
   "id": "f036c192-ccbf-4719-a0a4-5c17dfea8ca3",
   "metadata": {},
   "source": [
    "### Adding items"
   ]
  },
  {
   "cell_type": "code",
   "execution_count": 52,
   "id": "2db6fcb9-13b6-4f5e-984e-ca6a506ced42",
   "metadata": {},
   "outputs": [
    {
     "name": "stdout",
     "output_type": "stream",
     "text": [
      "{'name': 'Rahul', 'age': 22}\n"
     ]
    }
   ],
   "source": [
    "person= {\n",
    "    'name':'Rahul',\n",
    "    'age':22\n",
    "}\n",
    "print(person)"
   ]
  },
  {
   "cell_type": "code",
   "execution_count": 53,
   "id": "bb26d11d-eae4-4218-942c-307a42c3d8e8",
   "metadata": {},
   "outputs": [
    {
     "name": "stdout",
     "output_type": "stream",
     "text": [
      "{'name': 'Rahul', 'age': 22, 'city': 'new delhi', 'email': 'rahul@gmail.com'}\n"
     ]
    }
   ],
   "source": [
    "person['city']= 'new delhi'                        # naya keys and value add krne ke liye use krte hai.\n",
    "person['email']=\"rahul@gmail.com\"\n",
    "print(person)"
   ]
  },
  {
   "cell_type": "markdown",
   "id": "7b394b4d-ac5d-48ea-9c29-e4d587b17993",
   "metadata": {},
   "source": [
    "### Update method"
   ]
  },
  {
   "cell_type": "code",
   "execution_count": 54,
   "id": "ef1389ec-420a-4edf-8186-da078e6459c5",
   "metadata": {},
   "outputs": [
    {
     "name": "stdout",
     "output_type": "stream",
     "text": [
      "{'name': 'Rahul', 'age': 22, 'city': 'new delhi', 'email': 'rahul@gmail.com'}\n"
     ]
    }
   ],
   "source": [
    "person={\n",
    "    'name': 'Rahul', 'age': 22, 'city': 'new delhi', 'email': 'rahul@gmail.com'\n",
    "}\n",
    "print(person)"
   ]
  },
  {
   "cell_type": "code",
   "execution_count": 55,
   "id": "3de84cda-46b3-4f6b-a8db-f5d9f6442458",
   "metadata": {},
   "outputs": [
    {
     "name": "stdout",
     "output_type": "stream",
     "text": [
      "{'name': 'Rahul', 'age': 22, 'city': 'new delhi', 'email': 'rahul@gmail.com', 'phone': 1316512345}\n"
     ]
    }
   ],
   "source": [
    "person.update({\"phone\":1316512345})\n",
    "print(person)"
   ]
  },
  {
   "cell_type": "code",
   "execution_count": 56,
   "id": "55e9506a-5c22-4824-984e-b724e83ecd79",
   "metadata": {},
   "outputs": [
    {
     "name": "stdout",
     "output_type": "stream",
     "text": [
      "{'name': 'Rahul', 'age': 22, 'city': 'new delhi', 'email': 'jbsduhc@jj.com', 'phone': 1316512345, 'adhar number': 485438415}\n"
     ]
    }
   ],
   "source": [
    "person.update({\"email\":'jbsduhc@jj.com',\"adhar number\":485438415})\n",
    "print(person)"
   ]
  },
  {
   "cell_type": "markdown",
   "id": "b93b85f3-4df0-492b-a895-4b6818ebb923",
   "metadata": {},
   "source": [
    "### Remove items"
   ]
  },
  {
   "cell_type": "code",
   "execution_count": 57,
   "id": "977ddb6c-c212-4370-8498-39737131e12c",
   "metadata": {},
   "outputs": [
    {
     "name": "stdout",
     "output_type": "stream",
     "text": [
      "{'name': 'Rahul', 'age': 22, 'city': 'new delhi', 'phone': 1316512345, 'adhar number': 485438415}\n"
     ]
    }
   ],
   "source": [
    "a={'name': 'Rahul', 'age': 22, 'city': 'new delhi', 'email': 'jbsduhc@jj.com', 'phone': 1316512345, 'adhar number': 485438415}\n",
    "a.pop('email')\n",
    "print(a)"
   ]
  },
  {
   "cell_type": "markdown",
   "id": "510fcff8-35e6-4f78-8ea9-225386a143fa",
   "metadata": {},
   "source": [
    "#### Delete items"
   ]
  },
  {
   "cell_type": "code",
   "execution_count": 59,
   "id": "39485b41-5e28-4de1-b3c9-c984f0766280",
   "metadata": {},
   "outputs": [
    {
     "name": "stdout",
     "output_type": "stream",
     "text": [
      "{'name': 'Rahul', 'age': 22, 'city': 'new delhi', 'phone': 1316512345, 'adhar number': 485438415}\n"
     ]
    }
   ],
   "source": [
    "a={'name': 'Rahul', 'age': 22, 'city': 'new delhi', 'email': 'jbsduhc@jj.com', 'phone': 1316512345, 'adhar number': 485438415}\n",
    "del a['email']\n",
    "print(a)"
   ]
  },
  {
   "cell_type": "code",
   "execution_count": 64,
   "id": "9b985be5-40c9-4587-a785-788c0f193cef",
   "metadata": {},
   "outputs": [
    {
     "name": "stdout",
     "output_type": "stream",
     "text": [
      "{'city': 'new delhi', 'phone': 1316512345}\n"
     ]
    }
   ],
   "source": [
    "del a['name'],a['age'],a['adhar number']\n",
    "print(a)"
   ]
  },
  {
   "cell_type": "markdown",
   "id": "1777579b-8572-44c5-b291-6ad64b2bab37",
   "metadata": {},
   "source": [
    "### Clear method"
   ]
  },
  {
   "cell_type": "code",
   "execution_count": 66,
   "id": "2988977e-65c4-4356-9d83-5c8c231b2125",
   "metadata": {},
   "outputs": [
    {
     "name": "stdout",
     "output_type": "stream",
     "text": [
      "{}\n"
     ]
    }
   ],
   "source": [
    "a={'name': 'Rahul', 'age': 22, 'city': 'new delhi', 'email': 'jbsduhc@jj.com', 'phone': 1316512345, 'adhar number': 485438415}\n",
    "a.clear()\n",
    "print(a)"
   ]
  },
  {
   "cell_type": "markdown",
   "id": "da2d309a-08e2-4272-95c6-fd4c88a84248",
   "metadata": {},
   "source": [
    "##### Practice question 1"
   ]
  },
  {
   "cell_type": "markdown",
   "id": "e05cf7ae-3e04-4174-b674-b287e49555b7",
   "metadata": {},
   "source": [
    "Which method would you use to add a key-value pair to a dictionary?\n",
    "a). dict.append(key,value)\n",
    "b). dict.add(key,value)\n",
    "c). dict.insert(key,value)\n",
    "d). dict[key] = value"
   ]
  },
  {
   "cell_type": "code",
   "execution_count": null,
   "id": "7f4e0160-0fe1-49ea-ab3f-184d3dd2233b",
   "metadata": {},
   "outputs": [],
   "source": [
    "ans:(d)"
   ]
  },
  {
   "cell_type": "markdown",
   "id": "b2df6071-5cff-4d32-ae85-a677af6023dd",
   "metadata": {},
   "source": [
    "##### Practice question 2"
   ]
  },
  {
   "cell_type": "markdown",
   "id": "adbfa795-c533-4f1c-a598-563419b0561f",
   "metadata": {},
   "source": [
    "Which method is used to return a view object of the dictionary's keys?\n",
    "a). dict.keys()\n",
    "b). dict.items()\n",
    "c). dict.values()\n",
    "d). dict.get_keys()"
   ]
  },
  {
   "cell_type": "code",
   "execution_count": null,
   "id": "228b1218-60fa-44ea-9e3f-8a144dd93774",
   "metadata": {},
   "outputs": [],
   "source": [
    "ans:(a)"
   ]
  }
 ],
 "metadata": {
  "kernelspec": {
   "display_name": "Python 3 (ipykernel)",
   "language": "python",
   "name": "python3"
  },
  "language_info": {
   "codemirror_mode": {
    "name": "ipython",
    "version": 3
   },
   "file_extension": ".py",
   "mimetype": "text/x-python",
   "name": "python",
   "nbconvert_exporter": "python",
   "pygments_lexer": "ipython3",
   "version": "3.12.7"
  }
 },
 "nbformat": 4,
 "nbformat_minor": 5
}
