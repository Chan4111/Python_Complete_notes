{
 "cells": [
  {
   "cell_type": "markdown",
   "id": "f2cc48d1-21c0-40f0-bb06-41c5413621d4",
   "metadata": {},
   "source": [
    "## PART-1"
   ]
  },
  {
   "cell_type": "markdown",
   "id": "e61016a3-7f0f-4d1c-b785-5ac980edd601",
   "metadata": {},
   "source": [
    "# What is Dictionary?"
   ]
  },
  {
   "cell_type": "markdown",
   "id": "bba70ed7-8d45-4ee9-b744-385e77fad50b",
   "metadata": {},
   "source": [
    "A dictionary in Python is like a real-life dictionary where you have word (keys) and their meanings\n",
    "(values).It's way to store information that you can quickly look up using a unique key. it is a way to store\n",
    "data in pair, where each piece of data(value) is associated with a unique identifier(key).\n",
    "\n",
    "Dictionaries are wisely used in python for data science because they provide a flexiable and efficient way\n",
    "to store, retrieve,and manipulate data.\n",
    "\n",
    "#####  Creating Dictionary"
   ]
  },
  {
   "cell_type": "raw",
   "id": "f650a57f-5b8b-4d22-9664-64d92178093b",
   "metadata": {},
   "source": [
    "my_dict={\n",
    "  'key1':'value1',\n",
    "  'key2':'value2',\n",
    "  'key3':'value3',\n",
    "  .\n",
    "  .\n",
    "  .\n",
    "}"
   ]
  },
  {
   "cell_type": "markdown",
   "id": "8d9a834f-4722-409e-8ab3-9526bcabce0d",
   "metadata": {},
   "source": [
    "### Why Dictionary is important for Data Science"
   ]
  },
  {
   "cell_type": "raw",
   "id": "7c19ff90-4fef-48ef-913d-6d6a6633d710",
   "metadata": {},
   "source": [
    "Imagine you have a contact list on your phone. You store each contact with a name (key) and \n",
    "their phone number (value).\n",
    "\n",
    "Creating a Dictionary \n",
    "In Python,you can create a dictionary like this:\n",
    "\n",
    "contact= {\n",
    "    'chandan':'541276xxx',\n",
    "    'Gulshan':'241574xxx',\n",
    "    'Prashant':'454257xxx'\n",
    "}"
   ]
  },
  {
   "cell_type": "markdown",
   "id": "0fa53243-455e-4de8-b170-320c7412cde5",
   "metadata": {},
   "source": [
    "#### Efficient Data Retrieval"
   ]
  },
  {
   "cell_type": "raw",
   "id": "880a8c35-1e87-45c8-8a4b-04d686de6769",
   "metadata": {},
   "source": [
    " Reason: Dictionary allow for quick lookups by key, which is crucial when working with large datasets where speed matters"
   ]
  },
  {
   "cell_type": "markdown",
   "id": "bf2611e6-cce8-4fe2-bd38-283fbf79ea32",
   "metadata": {},
   "source": [
    "#### Storing metadata"
   ]
  },
  {
   "cell_type": "raw",
   "id": "169e0615-6db7-4d9a-a5bf-e014e4aa736f",
   "metadata": {},
   "source": [
    "Reason: In data science,it's common to have metadata about datasets, such as column names and data type. Dictionary are perfect for\n",
    "storing such metafata."
   ]
  },
  {
   "cell_type": "markdown",
   "id": "90ff93ef-b1ec-4889-8df1-c631aa354304",
   "metadata": {},
   "source": [
    "#### Grouping and Aggregating Data"
   ]
  },
  {
   "cell_type": "raw",
   "id": "4da9982f-66ff-4636-8165-e977ae378826",
   "metadata": {},
   "source": [
    "Reason: Dictionaries make it easy to group data by certain attributes and perform aggregations.\n",
    "Example: Grouping dtudents by their grades."
   ]
  },
  {
   "cell_type": "markdown",
   "id": "9976c9f2-60ec-401a-ab8e-30c9914be634",
   "metadata": {},
   "source": [
    "## Creating simple Dictionary"
   ]
  },
  {
   "cell_type": "code",
   "execution_count": 1,
   "id": "1ca77baf-c60f-4d70-8076-7d00038d8970",
   "metadata": {},
   "outputs": [
    {
     "name": "stdout",
     "output_type": "stream",
     "text": [
      "{'name': 'chandan', 'age': 21, 'city': 'lucknow'}\n",
      "<class 'dict'>\n"
     ]
    }
   ],
   "source": [
    "person ={\n",
    "    'name':'chandan',\n",
    "    'age':21,\n",
    "    'city':\"lucknow\"\n",
    "}\n",
    "print(person)\n",
    "print(type(person))"
   ]
  },
  {
   "cell_type": "markdown",
   "id": "50a8bf0e-b46d-4632-b8cb-f616c37287ca",
   "metadata": {},
   "source": [
    "#### Dictionary with different data types"
   ]
  },
  {
   "cell_type": "code",
   "execution_count": 2,
   "id": "9a3b725c-bb5e-450f-8245-5cb0eb3a8ada",
   "metadata": {},
   "outputs": [],
   "source": [
    "mixed_dict={\n",
    "    'name':'Gulshan',\n",
    "    'age':20,\n",
    "    'is_student':True,\n",
    "    'courses':['Math','physics','chemistry'],\n",
    "    'addresh':{\n",
    "        'street':\"123 main st\",\n",
    "        'city':\"Delhi\",\n",
    "        'zip code':12457\n",
    "    }\n",
    "}"
   ]
  },
  {
   "cell_type": "code",
   "execution_count": 4,
   "id": "d2bce026-8871-4b5f-81ef-cba90a7d37f6",
   "metadata": {},
   "outputs": [
    {
     "name": "stdout",
     "output_type": "stream",
     "text": [
      "{'name': 'Gulshan', 'age': 20, 'is_student': True, 'courses': ['Math', 'physics', 'chemistry'], 'addresh': {'street': '123 main st', 'city': 'Delhi', 'zip code': 12457}}\n",
      "<class 'dict'>\n"
     ]
    }
   ],
   "source": [
    "print(mixed_dict)\n",
    "print(type(mixed_dict))"
   ]
  },
  {
   "cell_type": "markdown",
   "id": "c10759eb-1c90-4e86-bf37-aef36db22f0a",
   "metadata": {},
   "source": [
    "####  Empty Dictionary "
   ]
  },
  {
   "cell_type": "code",
   "execution_count": 5,
   "id": "1e8497d1-82f5-4d4c-a4da-91cd13263e0a",
   "metadata": {},
   "outputs": [
    {
     "name": "stdout",
     "output_type": "stream",
     "text": [
      "{}\n",
      "<class 'dict'>\n"
     ]
    }
   ],
   "source": [
    "empty={}\n",
    "print(empty)\n",
    "print(type(empty))"
   ]
  },
  {
   "cell_type": "markdown",
   "id": "275873bd-0252-40d9-af59-d1447537c150",
   "metadata": {},
   "source": [
    "#### Dict constructor"
   ]
  },
  {
   "cell_type": "code",
   "execution_count": 6,
   "id": "690bd285-2ab8-4791-9b17-a3291cdf8ddf",
   "metadata": {},
   "outputs": [
    {
     "name": "stdout",
     "output_type": "stream",
     "text": [
      "{'name': 'chandan', 'age': 54, 'city': 'lucknow'}\n"
     ]
    }
   ],
   "source": [
    "person = dict(name = 'chandan', age=54,city='lucknow')\n",
    "print(person)"
   ]
  },
  {
   "cell_type": "markdown",
   "id": "d1b85910-479e-4669-bd78-f09880d2d1a8",
   "metadata": {},
   "source": [
    "#### Dictionary comprehension"
   ]
  },
  {
   "cell_type": "code",
   "execution_count": 7,
   "id": "db966297-3bb6-4a64-8da1-d5747bdefec7",
   "metadata": {},
   "outputs": [
    {
     "name": "stdout",
     "output_type": "stream",
     "text": [
      "{0: 0, 1: 1, 2: 4, 3: 9, 4: 16, 5: 25}\n"
     ]
    }
   ],
   "source": [
    "square = {x:x*x for x in range(6)}\n",
    "print(square)"
   ]
  },
  {
   "cell_type": "markdown",
   "id": "c41af42a-bb83-4146-8a6f-1fb4fc75f518",
   "metadata": {},
   "source": [
    "#### Practice question"
   ]
  },
  {
   "cell_type": "raw",
   "id": "d41a08dc-643c-49a6-8f86-d95de92181a7",
   "metadata": {},
   "source": [
    "Imagine you are managing and inventory of products in a store.\n",
    "Create a Python program that initializes a dictionary \n",
    "to store the following information about products:\n",
    "\n",
    "product ID as they key (an integer).\n",
    "product name as the value (a string).\n",
    "Your program should:\n",
    "\n",
    "Create an empty dictionary.\n",
    "prompt the user to enter details for at least 3 products.\n",
    "populate the dictionary with the entered product IDs and names.\n",
    "Display the final dictionary containing all product IDs and names."
   ]
  },
  {
   "cell_type": "code",
   "execution_count": 9,
   "id": "e628ac1c-6e1c-4bdb-abc5-332629942605",
   "metadata": {},
   "outputs": [
    {
     "name": "stdin",
     "output_type": "stream",
     "text": [
      "Enter the number of products: 3\n",
      "enter product Id1:  101\n",
      "Enter product name for ID 101: shampoo\n",
      "enter product Id2:  102\n",
      "Enter product name for ID 102: hair oil\n",
      "enter product Id3:  103\n",
      "Enter product name for ID 103: cosmetic\n"
     ]
    },
    {
     "name": "stdout",
     "output_type": "stream",
     "text": [
      "\n",
      "Product Inventory:\n",
      "{101: 'shampoo', 102: 'hair oil', 103: 'cosmetic'}\n"
     ]
    }
   ],
   "source": [
    "def create_product_inventory(num_products):\n",
    "    inventory ={}\n",
    "\n",
    "    for i in range(1,num_products +1):\n",
    "        product_id =int(input(f\"enter product Id{i}: \"))\n",
    "        product_name =input(f\"Enter product name for ID {product_id}:\")\n",
    "        inventory[product_id] = product_name\n",
    "\n",
    "    return inventory\n",
    "\n",
    "# prompt the user for the number of products\n",
    "num_products = int(input(\"Enter the number of products:\"))\n",
    "\n",
    "#Create the product inventory dictionary\n",
    "inventory_dict  = create_product_inventory(num_products)\n",
    "\n",
    "#Dispaly the product inventory\n",
    "print(\"\\nProduct Inventory:\")\n",
    "print(inventory_dict)"
   ]
  },
  {
   "cell_type": "markdown",
   "id": "26cd4fd2-2ed5-4752-abcf-ebf6278635f8",
   "metadata": {},
   "source": [
    "## Characterstics of the dictionary"
   ]
  },
  {
   "cell_type": "markdown",
   "id": "f8a0e5ab-2c03-45b6-a9e6-e88801bd21cd",
   "metadata": {},
   "source": [
    "####  ASESSING VALUE USING KEYS"
   ]
  },
  {
   "cell_type": "code",
   "execution_count": 10,
   "id": "9d40c238-ea0f-42d6-bc66-43a3221b597d",
   "metadata": {},
   "outputs": [],
   "source": [
    "person ={\n",
    "    'name':'chandan',\n",
    "    'age':21,\n",
    "    'city':'lucknow'\n",
    "}"
   ]
  },
  {
   "cell_type": "code",
   "execution_count": 11,
   "id": "573ebf55-49a8-445d-959c-454c226113e8",
   "metadata": {},
   "outputs": [
    {
     "name": "stdout",
     "output_type": "stream",
     "text": [
      "chandan\n"
     ]
    }
   ],
   "source": [
    "print(person['name'])"
   ]
  },
  {
   "cell_type": "code",
   "execution_count": 12,
   "id": "b33b5974-2f25-4875-9b0c-53d381b329dc",
   "metadata": {},
   "outputs": [
    {
     "name": "stdout",
     "output_type": "stream",
     "text": [
      "21\n"
     ]
    }
   ],
   "source": [
    "print(person['age'])"
   ]
  },
  {
   "cell_type": "code",
   "execution_count": 13,
   "id": "f3cf98b0-fb13-427a-a15e-771f36f73e45",
   "metadata": {},
   "outputs": [
    {
     "name": "stdout",
     "output_type": "stream",
     "text": [
      "lucknow\n"
     ]
    }
   ],
   "source": [
    "print(person['city'])"
   ]
  },
  {
   "cell_type": "raw",
   "id": "4255db07-766d-4328-bafc-04227d17d27c",
   "metadata": {},
   "source": [
    "* Dictionary in python do not maintain any specific order for their elements. The order in which items are stored may not\n",
    "necessarily b the order in which they are retrived. from python 3.7 onward, dictionaries maintain insertion order,which\n",
    "means items are generally dtore and returned in the order thy were added."
   ]
  },
  {
   "cell_type": "code",
   "execution_count": 14,
   "id": "63b04411-ef3c-4c82-a0af-02f55d8bb6c4",
   "metadata": {},
   "outputs": [],
   "source": [
    "person ={\n",
    "    'name':'chandan',\n",
    "    'age':21                               \n",
    "}                                             "
   ]
  },
  {
   "cell_type": "code",
   "execution_count": 15,
   "id": "3fdea094-5ffc-47f8-9e6f-300e65223e1d",
   "metadata": {},
   "outputs": [
    {
     "name": "stdout",
     "output_type": "stream",
     "text": [
      "{'name': 'chandan', 'age': 21}\n"
     ]
    }
   ],
   "source": [
    "print(person)"
   ]
  },
  {
   "cell_type": "code",
   "execution_count": 16,
   "id": "2a3e807b-e9b9-49ec-a758-241ef342dac5",
   "metadata": {},
   "outputs": [],
   "source": [
    "person ={\n",
    "    'name':'chandan',\n",
    "    'age':21,\n",
    "    'name':'Gulshan'\n",
    "}                                             "
   ]
  },
  {
   "cell_type": "code",
   "execution_count": 17,
   "id": "08ebc5d8-eaee-4130-9eaf-eb041fb5a365",
   "metadata": {},
   "outputs": [
    {
     "name": "stdout",
     "output_type": "stream",
     "text": [
      "{'name': 'Gulshan', 'age': 21}\n"
     ]
    }
   ],
   "source": [
    "print(person)"
   ]
  },
  {
   "cell_type": "markdown",
   "id": "9bf50403-13f2-435a-bb0d-9cc5a7f10777",
   "metadata": {},
   "source": [
    "#### Flexible key typle"
   ]
  },
  {
   "cell_type": "raw",
   "id": "29ece307-f1ab-4081-83be-23d6e0c04dd0",
   "metadata": {},
   "source": [
    "While Keys in dictionaries must be unique ,they can be of \n",
    "various data types,including strings,integers,\n",
    "floats,and tuples (if they contain only hashable objects)."
   ]
  },
  {
   "cell_type": "code",
   "execution_count": 19,
   "id": "cb369c8d-3c6c-4d07-870d-9ac8317761d3",
   "metadata": {},
   "outputs": [],
   "source": [
    "data ={\n",
    "    'name':'chandan',\n",
    "    123:\"integer key\",\n",
    "    (1,2):\"tuple key\",\n",
    "    3.6:'float key'\n",
    "}"
   ]
  },
  {
   "cell_type": "code",
   "execution_count": 20,
   "id": "6d93d856-a032-4fea-8bae-104d1671786e",
   "metadata": {},
   "outputs": [
    {
     "name": "stdout",
     "output_type": "stream",
     "text": [
      "{'name': 'chandan', 123: 'integer key', (1, 2): 'tuple key', 3.6: 'float key'}\n"
     ]
    }
   ],
   "source": [
    "print(data)"
   ]
  },
  {
   "cell_type": "code",
   "execution_count": 21,
   "id": "07acbd79-deda-4255-9c1a-fdc50d2dde27",
   "metadata": {},
   "outputs": [
    {
     "ename": "TypeError",
     "evalue": "unhashable type: 'list'",
     "output_type": "error",
     "traceback": [
      "\u001b[1;31m---------------------------------------------------------------------------\u001b[0m",
      "\u001b[1;31mTypeError\u001b[0m                                 Traceback (most recent call last)",
      "Cell \u001b[1;32mIn[21], line 1\u001b[0m\n\u001b[1;32m----> 1\u001b[0m data \u001b[38;5;241m=\u001b[39m{\n\u001b[0;32m      2\u001b[0m     \u001b[38;5;124m'\u001b[39m\u001b[38;5;124mname\u001b[39m\u001b[38;5;124m'\u001b[39m:\u001b[38;5;124m'\u001b[39m\u001b[38;5;124mchandan\u001b[39m\u001b[38;5;124m'\u001b[39m,\n\u001b[0;32m      3\u001b[0m     \u001b[38;5;241m123\u001b[39m:\u001b[38;5;124m\"\u001b[39m\u001b[38;5;124minteger key\u001b[39m\u001b[38;5;124m\"\u001b[39m,\n\u001b[0;32m      4\u001b[0m     (\u001b[38;5;241m1\u001b[39m,\u001b[38;5;241m2\u001b[39m):\u001b[38;5;124m\"\u001b[39m\u001b[38;5;124mtuple key\u001b[39m\u001b[38;5;124m\"\u001b[39m,\n\u001b[0;32m      5\u001b[0m     \u001b[38;5;241m3.6\u001b[39m:\u001b[38;5;124m'\u001b[39m\u001b[38;5;124mfloat key\u001b[39m\u001b[38;5;124m'\u001b[39m,\n\u001b[0;32m      6\u001b[0m     [\u001b[38;5;241m1\u001b[39m,\u001b[38;5;241m2\u001b[39m,\u001b[38;5;241m3\u001b[39m,\u001b[38;5;241m4\u001b[39m]:\u001b[38;5;124m\"\u001b[39m\u001b[38;5;124mlist key\u001b[39m\u001b[38;5;124m\"\u001b[39m\n\u001b[0;32m      7\u001b[0m }\n",
      "\u001b[1;31mTypeError\u001b[0m: unhashable type: 'list'"
     ]
    }
   ],
   "source": [
    "data ={\n",
    "    'name':'chandan',       ## aap dictionary name kuchh bhi rakh skte hai pr list nhi rakh skter hai.\n",
    "    123:\"integer key\",\n",
    "    (1,2):\"tuple key\",\n",
    "    3.6:'float key',\n",
    "    [1,2,3,4]:\"list key\"\n",
    "}"
   ]
  },
  {
   "cell_type": "code",
   "execution_count": 22,
   "id": "8f105f7e-ccef-4992-aae5-d1f342925f37",
   "metadata": {},
   "outputs": [
    {
     "ename": "TypeError",
     "evalue": "unhashable type: 'dict'",
     "output_type": "error",
     "traceback": [
      "\u001b[1;31m---------------------------------------------------------------------------\u001b[0m",
      "\u001b[1;31mTypeError\u001b[0m                                 Traceback (most recent call last)",
      "Cell \u001b[1;32mIn[22], line 1\u001b[0m\n\u001b[1;32m----> 1\u001b[0m data \u001b[38;5;241m=\u001b[39m{\n\u001b[0;32m      2\u001b[0m     \u001b[38;5;124m'\u001b[39m\u001b[38;5;124mname\u001b[39m\u001b[38;5;124m'\u001b[39m:\u001b[38;5;124m'\u001b[39m\u001b[38;5;124mchandan\u001b[39m\u001b[38;5;124m'\u001b[39m,\n\u001b[0;32m      3\u001b[0m     \u001b[38;5;241m123\u001b[39m:\u001b[38;5;124m\"\u001b[39m\u001b[38;5;124minteger key\u001b[39m\u001b[38;5;124m\"\u001b[39m,\n\u001b[0;32m      4\u001b[0m     (\u001b[38;5;241m1\u001b[39m,\u001b[38;5;241m2\u001b[39m):\u001b[38;5;124m\"\u001b[39m\u001b[38;5;124mtuple key\u001b[39m\u001b[38;5;124m\"\u001b[39m,\n\u001b[0;32m      5\u001b[0m     \u001b[38;5;241m3.6\u001b[39m:\u001b[38;5;124m'\u001b[39m\u001b[38;5;124mfloat key\u001b[39m\u001b[38;5;124m'\u001b[39m,\n\u001b[0;32m      6\u001b[0m     {\u001b[38;5;124m'\u001b[39m\u001b[38;5;124mage\u001b[39m\u001b[38;5;124m'\u001b[39m:\u001b[38;5;241m30\u001b[39m,\u001b[38;5;124m'\u001b[39m\u001b[38;5;124myear\u001b[39m\u001b[38;5;124m'\u001b[39m:\u001b[38;5;241m1997\u001b[39m}:\u001b[38;5;124m\"\u001b[39m\u001b[38;5;124mdictionary keys\u001b[39m\u001b[38;5;124m\"\u001b[39m\n\u001b[0;32m      7\u001b[0m }\n",
      "\u001b[1;31mTypeError\u001b[0m: unhashable type: 'dict'"
     ]
    }
   ],
   "source": [
    "data ={\n",
    "    'name':'chandan',\n",
    "    123:\"integer key\",\n",
    "    (1,2):\"tuple key\",                      ## dictionary bhi nhi le skte hai kyu ki ye unhashable hai.\n",
    "    3.6:'float key',\n",
    "    {'age':30,'year':1997}:\"dictionary keys\"\n",
    "}"
   ]
  },
  {
   "cell_type": "markdown",
   "id": "60877ad9-4720-4a80-a7dc-fa39288c31e9",
   "metadata": {},
   "source": [
    "#### Duplicate are note allowed"
   ]
  },
  {
   "cell_type": "code",
   "execution_count": 23,
   "id": "ffc7bf44-d530-4974-a176-9bc4de31d8a7",
   "metadata": {},
   "outputs": [],
   "source": [
    "dict=   {\n",
    "    'ID':14574,\n",
    "    'color':'red',\n",
    "    'year':2004,\n",
    "    'year':4571\n",
    "}"
   ]
  },
  {
   "cell_type": "code",
   "execution_count": 24,
   "id": "4bafb5b4-405e-41ff-b76d-edc533dd6bf6",
   "metadata": {},
   "outputs": [
    {
     "name": "stdout",
     "output_type": "stream",
     "text": [
      "{'ID': 14574, 'color': 'red', 'year': 4571}\n"
     ]
    }
   ],
   "source": [
    "print(dict)"
   ]
  }
 ],
 "metadata": {
  "kernelspec": {
   "display_name": "Python 3 (ipykernel)",
   "language": "python",
   "name": "python3"
  },
  "language_info": {
   "codemirror_mode": {
    "name": "ipython",
    "version": 3
   },
   "file_extension": ".py",
   "mimetype": "text/x-python",
   "name": "python",
   "nbconvert_exporter": "python",
   "pygments_lexer": "ipython3",
   "version": "3.12.7"
  }
 },
 "nbformat": 4,
 "nbformat_minor": 5
}
